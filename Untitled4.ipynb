{
 "cells": [
  {
   "cell_type": "code",
   "execution_count": null,
   "id": "aeaec11a",
   "metadata": {},
   "outputs": [],
   "source": [
    "import random\n",
    "def get_upper():\n",
    "    count=random.randint(1,3)\n",
    "    return random.choices( 'ABCDEFGHIJKLMNOPQRSTUVWXYZ' ,k=count)\n",
    "def get_special_char():\n",
    "    count=random.randint(1,3)\n",
    "    return random.choices('!@#$%^&*',k=count)\n",
    "def get_lower(count):\n",
    "    string='abcdefghijklmnopqrstuvwxyz0123456789'\n",
    "    return random.choices(string,k=count)\n",
    "def generate_password(length):\n",
    "    if length<6:\n",
    "        length=6\n",
    "        \n",
    "    lst=[]\n",
    "    upper_1st=get_upper()\n",
    "    specical_char=get_char()\n",
    "    lst.extend(upper_lst)\n",
    "    lst.extend(special_char)\n",
    "    \n",
    "    surplus_count=length-len(lst)\n",
    "    lower_lst=get_lower(surplus_count)\n",
    "    lst.extend(lower_1st)\n",
    "    random.shuffle(lst)\n",
    "    return ' '.join(lst)\n",
    "if __name__== '__main__' :\n",
    "    print(generate_password(8))\n",
    "    print(generate_password(5))\n",
    "    print(generate_password(12))"
   ]
  }
 ],
 "metadata": {
  "kernelspec": {
   "display_name": "Python 3",
   "language": "python",
   "name": "python3"
  },
  "language_info": {
   "codemirror_mode": {
    "name": "ipython",
    "version": 3
   },
   "file_extension": ".py",
   "mimetype": "text/x-python",
   "name": "python",
   "nbconvert_exporter": "python",
   "pygments_lexer": "ipython3",
   "version": "3.8.8"
  }
 },
 "nbformat": 4,
 "nbformat_minor": 5
}
