{
 "cells": [
  {
   "cell_type": "code",
   "execution_count": 6,
   "id": "09e762a2",
   "metadata": {},
   "outputs": [
    {
     "name": "stdout",
     "output_type": "stream",
     "text": [
      "hello,I'm Zhang San.\n",
      "hello,I'm Li Si.\n"
     ]
    }
   ],
   "source": [
    "class Person:\n",
    "    def set_name(self,name):\n",
    "        self.name = name\n",
    "        \n",
    "    def get_name(self):\n",
    "        return self.name\n",
    "    \n",
    "    def greet(self):\n",
    "        print(f\"hello,I'm {self.name}.\")\n",
    "        \n",
    "zs=Person()\n",
    "zs.set_name('Zhang San')\n",
    "zs.greet()\n",
    "\n",
    "ls = Person()\n",
    "ls.set_name('Li Si')\n",
    "ls.greet()"
   ]
  },
  {
   "cell_type": "code",
   "execution_count": 7,
   "id": "0010bb2b",
   "metadata": {},
   "outputs": [
    {
     "name": "stdout",
     "output_type": "stream",
     "text": [
      "hello,I'm Zhang San.\n"
     ]
    }
   ],
   "source": [
    "class Person:\n",
    "    def __init__(self,name):#双下划线————\n",
    "        self.name = name\n",
    "        \n",
    "    def get_name(self,name):\n",
    "        return self.name\n",
    "    \n",
    "    def greet(self):\n",
    "        print(f\"hello,I'm {self.name}.\")\n",
    "        \n",
    "zs=Person('Zhang San')\n",
    "zs.greet()\n"
   ]
  },
  {
   "cell_type": "code",
   "execution_count": 12,
   "id": "ecc3de36",
   "metadata": {},
   "outputs": [
    {
     "name": "stdout",
     "output_type": "stream",
     "text": [
      "hello,I'm Zhang San.\n"
     ]
    }
   ],
   "source": [
    "class Person:\n",
    "    def __init__(self,name):#双下划线————\n",
    "        self.__name = name#双下划线python产生名字混淆，因此输出为张三不是1\n",
    "        \n",
    "    def set_name(self,name):\n",
    "        self.__name = name\n",
    "        \n",
    "    def get_name(self,name):\n",
    "        return self.__name\n",
    "    \n",
    "    def greet(self):\n",
    "        print(f\"hello,I'm {self.__name}.\")\n",
    "        \n",
    "zs=Person('Zhang San')\n",
    "zs.__name=1\n",
    "zs.greet()"
   ]
  },
  {
   "cell_type": "code",
   "execution_count": 9,
   "id": "1439a2cd",
   "metadata": {},
   "outputs": [
    {
     "name": "stdout",
     "output_type": "stream",
     "text": [
      "hello,I'm 1.\n"
     ]
    }
   ],
   "source": [
    "class Person:\n",
    "    def __init__(self,name):#双下划线————\n",
    "        self._name = name#双下划线python产生名字混淆\n",
    "        \n",
    "    def get_name(self,name):\n",
    "        return self.name\n",
    "    \n",
    "    def greet(self):\n",
    "        print(f\"hello,I'm {self.name}.\")\n",
    "        \n",
    "zs=Person('Zhang San')\n",
    "zs.name=1\n",
    "zs.greet()"
   ]
  },
  {
   "cell_type": "code",
   "execution_count": 13,
   "id": "cc495a39",
   "metadata": {},
   "outputs": [
    {
     "data": {
      "text/plain": [
       "True"
      ]
     },
     "execution_count": 13,
     "metadata": {},
     "output_type": "execute_result"
    }
   ],
   "source": [
    "isinstance(zs,Person)"
   ]
  },
  {
   "cell_type": "code",
   "execution_count": 14,
   "id": "4ce8ef5b",
   "metadata": {},
   "outputs": [
    {
     "name": "stdout",
     "output_type": "stream",
     "text": [
      "hello,I'm Zhang San.\n"
     ]
    }
   ],
   "source": [
    "class Person:\n",
    "    '''Class to represent a person.'''\n",
    "    def __init__(self,name):#双下划线————\n",
    "        self.__name = name#双下划线python产生名字混淆，因此输出为张三不是1\n",
    "        \n",
    "    def set_name(self,name):\n",
    "        '''Set the name of person'''\n",
    "        self.__name = name\n",
    "        \n",
    "    def get_name(self,name):\n",
    "        '''Return the name of person'''\n",
    "        return self.__name\n",
    "    \n",
    "    def greet(self):\n",
    "        '''Say hello'''\n",
    "        print(f\"hello,I'm {self.__name}.\")\n",
    "        \n",
    "zs=Person('Zhang San')\n",
    "zs.__name=1\n",
    "zs.greet()"
   ]
  },
  {
   "cell_type": "code",
   "execution_count": 15,
   "id": "b6192919",
   "metadata": {},
   "outputs": [
    {
     "name": "stdout",
     "output_type": "stream",
     "text": [
      "Help on class Person in module __main__:\n",
      "\n",
      "class Person(builtins.object)\n",
      " |  Person(name)\n",
      " |  \n",
      " |  Methods defined here:\n",
      " |  \n",
      " |  __init__(self, name)\n",
      " |      Initialize self.  See help(type(self)) for accurate signature.\n",
      " |  \n",
      " |  get_name(self, name)\n",
      " |      Return the name of person\n",
      " |  \n",
      " |  greet(self)\n",
      " |      Say hello\n",
      " |  \n",
      " |  set_name(self, name)\n",
      " |      Set the name of person\n",
      " |  \n",
      " |  ----------------------------------------------------------------------\n",
      " |  Data descriptors defined here:\n",
      " |  \n",
      " |  __dict__\n",
      " |      dictionary for instance variables (if defined)\n",
      " |  \n",
      " |  __weakref__\n",
      " |      list of weak references to the object (if defined)\n",
      "\n"
     ]
    }
   ],
   "source": [
    "help(Person)"
   ]
  },
  {
   "cell_type": "code",
   "execution_count": 16,
   "id": "49166ee9",
   "metadata": {},
   "outputs": [
    {
     "data": {
      "text/plain": [
       "{'_Person__name': 'Zhang San', '__name': 1}"
      ]
     },
     "execution_count": 16,
     "metadata": {},
     "output_type": "execute_result"
    }
   ],
   "source": [
    "zs.__dict__"
   ]
  },
  {
   "cell_type": "code",
   "execution_count": 24,
   "id": "f0af4e73",
   "metadata": {},
   "outputs": [
    {
     "name": "stdout",
     "output_type": "stream",
     "text": [
      "hello,I'm nobody.\n"
     ]
    }
   ],
   "source": [
    "class Person:\n",
    "    '''Class to represent a person.'''\n",
    "    def __init__(self,name):#双下划线————\n",
    "        self.__name = name#双下划线python产生名字混淆，因此输出为张三不是1\n",
    "        \n",
    "    def set_name(self,name):\n",
    "        '''Set the name of person'''\n",
    "        if isinstance(name,str):\n",
    "            self.__name = name\n",
    "        else:\n",
    "            self.__name = 'nobody'\n",
    "        \n",
    "    def get_name(self,name):\n",
    "        '''Return the name of person'''\n",
    "        return self.__name\n",
    "    \n",
    "    def greet(self):\n",
    "        '''Say hello'''\n",
    "        print(f\"hello,I'm {self.__name}.\")\n",
    "        \n",
    "zs=Person('zs')\n",
    "zs.set_name(1)\n",
    "zs.greet()"
   ]
  },
  {
   "cell_type": "code",
   "execution_count": 26,
   "id": "0d6424e1",
   "metadata": {},
   "outputs": [
    {
     "ename": "AttributeError",
     "evalue": "'Person' object has no attribute '_Person__greet2'",
     "output_type": "error",
     "traceback": [
      "\u001b[1;31m---------------------------------------------------------------------------\u001b[0m",
      "\u001b[1;31mAttributeError\u001b[0m                            Traceback (most recent call last)",
      "\u001b[1;32m<ipython-input-26-3d3137722793>\u001b[0m in \u001b[0;36m<module>\u001b[1;34m\u001b[0m\n\u001b[0;32m     27\u001b[0m \u001b[0mzs\u001b[0m\u001b[1;33m=\u001b[0m\u001b[0mPerson\u001b[0m\u001b[1;33m(\u001b[0m\u001b[1;34m\"zs\"\u001b[0m\u001b[1;33m)\u001b[0m\u001b[1;33m\u001b[0m\u001b[1;33m\u001b[0m\u001b[0m\n\u001b[0;32m     28\u001b[0m \u001b[0mzs\u001b[0m\u001b[1;33m.\u001b[0m\u001b[0mset_name\u001b[0m\u001b[1;33m(\u001b[0m\u001b[1;36m1\u001b[0m\u001b[1;33m)\u001b[0m\u001b[1;33m\u001b[0m\u001b[1;33m\u001b[0m\u001b[0m\n\u001b[1;32m---> 29\u001b[1;33m \u001b[0mzs\u001b[0m\u001b[1;33m.\u001b[0m\u001b[0mgreet\u001b[0m\u001b[1;33m(\u001b[0m\u001b[1;33m)\u001b[0m\u001b[1;33m\u001b[0m\u001b[1;33m\u001b[0m\u001b[0m\n\u001b[0m",
      "\u001b[1;32m<ipython-input-26-3d3137722793>\u001b[0m in \u001b[0;36mgreet\u001b[1;34m(self)\u001b[0m\n\u001b[0;32m     17\u001b[0m     \u001b[1;32mdef\u001b[0m \u001b[0mgreet\u001b[0m\u001b[1;33m(\u001b[0m\u001b[0mself\u001b[0m\u001b[1;33m)\u001b[0m\u001b[1;33m:\u001b[0m\u001b[1;33m\u001b[0m\u001b[1;33m\u001b[0m\u001b[0m\n\u001b[0;32m     18\u001b[0m         \u001b[1;34m'''Say hello'''\u001b[0m\u001b[1;33m\u001b[0m\u001b[1;33m\u001b[0m\u001b[0m\n\u001b[1;32m---> 19\u001b[1;33m         \u001b[0mself\u001b[0m\u001b[1;33m.\u001b[0m\u001b[0m__greet2\u001b[0m\u001b[1;33m(\u001b[0m\u001b[1;33m)\u001b[0m\u001b[1;33m\u001b[0m\u001b[1;33m\u001b[0m\u001b[0m\n\u001b[0m\u001b[0;32m     20\u001b[0m         \u001b[0mself\u001b[0m\u001b[1;33m.\u001b[0m\u001b[0m__greet2\u001b[0m\u001b[1;33m(\u001b[0m\u001b[1;33m)\u001b[0m\u001b[1;33m\u001b[0m\u001b[1;33m\u001b[0m\u001b[0m\n\u001b[0;32m     21\u001b[0m \u001b[1;33m\u001b[0m\u001b[0m\n",
      "\u001b[1;31mAttributeError\u001b[0m: 'Person' object has no attribute '_Person__greet2'"
     ]
    }
   ],
   "source": [
    "class Person:\n",
    "    '''Class to represent a person.'''\n",
    "    def __init__(self,name):#双下划线————\n",
    "        self.__name = name#双下划线python产生名字混淆，因此输出为张三不是1\n",
    "        \n",
    "    def set_name(self,name):\n",
    "        '''Set the name of person'''\n",
    "        if isinstance(name,str):\n",
    "            self.__name = name\n",
    "        else:\n",
    "            self.__name = 'nobody'\n",
    "        \n",
    "    def get_name(self,name):\n",
    "        '''Return the name of person'''\n",
    "        return self.__name\n",
    "    \n",
    "    def greet(self):\n",
    "        '''Say hello'''\n",
    "        self.__greet2()\n",
    "        self.__greet2()\n",
    "        \n",
    "    def greet2(self):\n",
    "        '''Say hello'''\n",
    "        print(f\"hello,I'm {self.__name}.\")\n",
    "        \n",
    "        \n",
    "zs=Person(\"zs\")\n",
    "zs.set_name(1)\n",
    "zs.greet()"
   ]
  },
  {
   "cell_type": "code",
   "execution_count": 27,
   "id": "87c8c7e1",
   "metadata": {},
   "outputs": [
    {
     "ename": "AttributeError",
     "evalue": "'Person' object has no attribute '_Person__greet2'",
     "output_type": "error",
     "traceback": [
      "\u001b[1;31m---------------------------------------------------------------------------\u001b[0m",
      "\u001b[1;31mAttributeError\u001b[0m                            Traceback (most recent call last)",
      "\u001b[1;32m<ipython-input-27-8167635e48d1>\u001b[0m in \u001b[0;36m<module>\u001b[1;34m\u001b[0m\n\u001b[0;32m     27\u001b[0m \u001b[0mzs\u001b[0m\u001b[1;33m=\u001b[0m\u001b[0mPerson\u001b[0m\u001b[1;33m(\u001b[0m\u001b[1;34m\"zs\"\u001b[0m\u001b[1;33m)\u001b[0m\u001b[1;33m\u001b[0m\u001b[1;33m\u001b[0m\u001b[0m\n\u001b[0;32m     28\u001b[0m \u001b[0mzs\u001b[0m\u001b[1;33m.\u001b[0m\u001b[0mset_name\u001b[0m\u001b[1;33m(\u001b[0m\u001b[1;36m1\u001b[0m\u001b[1;33m)\u001b[0m\u001b[1;33m\u001b[0m\u001b[1;33m\u001b[0m\u001b[0m\n\u001b[1;32m---> 29\u001b[1;33m \u001b[0mzs\u001b[0m\u001b[1;33m.\u001b[0m\u001b[0mgreet\u001b[0m\u001b[1;33m(\u001b[0m\u001b[1;33m)\u001b[0m\u001b[1;33m\u001b[0m\u001b[1;33m\u001b[0m\u001b[0m\n\u001b[0m",
      "\u001b[1;32m<ipython-input-27-8167635e48d1>\u001b[0m in \u001b[0;36mgreet\u001b[1;34m(self)\u001b[0m\n\u001b[0;32m     17\u001b[0m     \u001b[1;32mdef\u001b[0m \u001b[0mgreet\u001b[0m\u001b[1;33m(\u001b[0m\u001b[0mself\u001b[0m\u001b[1;33m)\u001b[0m\u001b[1;33m:\u001b[0m\u001b[1;33m\u001b[0m\u001b[1;33m\u001b[0m\u001b[0m\n\u001b[0;32m     18\u001b[0m         \u001b[1;34m'''Say hello'''\u001b[0m\u001b[1;33m\u001b[0m\u001b[1;33m\u001b[0m\u001b[0m\n\u001b[1;32m---> 19\u001b[1;33m         \u001b[0mself\u001b[0m\u001b[1;33m.\u001b[0m\u001b[0m__greet2\u001b[0m\u001b[1;33m(\u001b[0m\u001b[1;33m)\u001b[0m\u001b[1;33m\u001b[0m\u001b[1;33m\u001b[0m\u001b[0m\n\u001b[0m\u001b[0;32m     20\u001b[0m         \u001b[0mself\u001b[0m\u001b[1;33m.\u001b[0m\u001b[0m__greet2\u001b[0m\u001b[1;33m(\u001b[0m\u001b[1;33m)\u001b[0m\u001b[1;33m\u001b[0m\u001b[1;33m\u001b[0m\u001b[0m\n\u001b[0;32m     21\u001b[0m \u001b[1;33m\u001b[0m\u001b[0m\n",
      "\u001b[1;31mAttributeError\u001b[0m: 'Person' object has no attribute '_Person__greet2'"
     ]
    }
   ],
   "source": [
    "class Person:\n",
    "    '''Class to represent a person.'''\n",
    "    def __init__(self,name:str):#双下划线————\n",
    "        self.set_name(name)#双下划线python产生名字混淆，因此输出为张三不是1\n",
    "        \n",
    "    def set_name(self,name:str):\n",
    "        '''Set the name of person'''\n",
    "        if isinstance(name,str):\n",
    "            self.__name = name\n",
    "        else:\n",
    "            self.__name = 'nobody'\n",
    "        \n",
    "    def get_name(self)->str:\n",
    "        '''Return the name of person'''\n",
    "        return self.__name\n",
    "    \n",
    "    def greet(self):\n",
    "        '''Say hello'''\n",
    "        self.__greet2()\n",
    "        self.__greet2()\n",
    "        \n",
    "    def greet2(self):\n",
    "        '''Say hello'''\n",
    "        print(f\"hello,I'm {self.__name}.\")\n",
    "        \n",
    "        \n",
    "zs=Person(\"zs\")\n",
    "zs.set_name(1)\n",
    "zs.greet()"
   ]
  },
  {
   "cell_type": "code",
   "execution_count": 28,
   "id": "f20c8881",
   "metadata": {},
   "outputs": [
    {
     "name": "stdout",
     "output_type": "stream",
     "text": [
      "1\n",
      "2\n"
     ]
    }
   ],
   "source": [
    "print('hello,world'.count('e'))\n",
    "print([1,2,'e','e',4].count('e'))"
   ]
  },
  {
   "cell_type": "code",
   "execution_count": 29,
   "id": "6c8274c7",
   "metadata": {},
   "outputs": [
    {
     "data": {
      "text/plain": [
       "1"
      ]
     },
     "execution_count": 29,
     "metadata": {},
     "output_type": "execute_result"
    }
   ],
   "source": [
    "from random import choice\n",
    "x=choice(['hello,world!',[1,2,'e','e']])\n",
    "x.count('e')"
   ]
  },
  {
   "cell_type": "code",
   "execution_count": 33,
   "id": "9636b93b",
   "metadata": {},
   "outputs": [
    {
     "name": "stdout",
     "output_type": "stream",
     "text": [
      "hello,world!\n",
      "1\n"
     ]
    }
   ],
   "source": [
    "from random import choice\n",
    "x=choice(['hello,world!',[1,2,'e','e']])\n",
    "print(x)\n",
    "print(x.count('e'))"
   ]
  },
  {
   "cell_type": "code",
   "execution_count": 34,
   "id": "8c459b8c",
   "metadata": {},
   "outputs": [
    {
     "data": {
      "text/plain": [
       "[1, 2, 3]"
      ]
     },
     "execution_count": 34,
     "metadata": {},
     "output_type": "execute_result"
    }
   ],
   "source": [
    "class Filter:\n",
    "    def __init__(self):\n",
    "        self.__blocked=[]\n",
    "    \n",
    "    def Filter(self,sequence):\n",
    "        return [x for x in sequence if x not in self.__blocked]\n",
    "    \n",
    "class SPAMFilter:\n",
    "    def __init__(self):\n",
    "        self.__blocked=['SPAM']\n",
    "        \n",
    "f=Filter()\n",
    "f.Filter([1,2,3])"
   ]
  },
  {
   "cell_type": "code",
   "execution_count": 36,
   "id": "4f9bc66e",
   "metadata": {},
   "outputs": [
    {
     "ename": "SyntaxError",
     "evalue": "unexpected EOF while parsing (<ipython-input-36-fdd5f4bf7801>, line 16)",
     "output_type": "error",
     "traceback": [
      "\u001b[1;36m  File \u001b[1;32m\"<ipython-input-36-fdd5f4bf7801>\"\u001b[1;36m, line \u001b[1;32m16\u001b[0m\n\u001b[1;33m    print(s.Filter(['SPAM','SPAM',1,2,3,'hello','SPAM'])\u001b[0m\n\u001b[1;37m                                                        ^\u001b[0m\n\u001b[1;31mSyntaxError\u001b[0m\u001b[1;31m:\u001b[0m unexpected EOF while parsing\n"
     ]
    }
   ],
   "source": [
    "class Filter:\n",
    "    def __init__(self):\n",
    "        self.__blocked=[]\n",
    "    \n",
    "    def Filter(self,sequence):\n",
    "        return [x for x in sequence if x not in self.__blocked]\n",
    "    \n",
    "class SPAMFilter(Filter):\n",
    "    def __init__(self):\n",
    "        self.__blocked=['SPAM']\n",
    "        \n",
    "f=Filter()\n",
    "f.Filter([1,2,3])\n",
    "\n",
    "s=SPAMFilter()\n",
    "print(s.Filter(['SPAM','SPAM',1,2,3,'hello','SPAM'])"
   ]
  },
  {
   "cell_type": "code",
   "execution_count": 47,
   "id": "c01263f1",
   "metadata": {
    "scrolled": true
   },
   "outputs": [
    {
     "name": "stdout",
     "output_type": "stream",
     "text": [
      "The answer is:7\n"
     ]
    }
   ],
   "source": [
    "class Calculator:\n",
    "    def calculate(self,expression):\n",
    "        self.value=eval(expression)\n",
    "\n",
    "class Talker:\n",
    "    def talk(self):\n",
    "        print(f'The answer is:{self.value}')\n",
    "        \n",
    "class TalkingCalculator(Calculator,Talker):\n",
    "        pass\n",
    "\n",
    "tc=TalkingCalculator()\n",
    "tc.calculate('1+2*3')\n",
    "tc.talk()"
   ]
  },
  {
   "cell_type": "code",
   "execution_count": 49,
   "id": "ff79b3b5",
   "metadata": {},
   "outputs": [
    {
     "ename": "AttributeError",
     "evalue": "'TalkingCalculator' object has no attribute '_TalkingCalculator__value'",
     "output_type": "error",
     "traceback": [
      "\u001b[1;31m---------------------------------------------------------------------------\u001b[0m",
      "\u001b[1;31mAttributeError\u001b[0m                            Traceback (most recent call last)",
      "\u001b[1;32m<ipython-input-49-dc1b08473c77>\u001b[0m in \u001b[0;36m<module>\u001b[1;34m\u001b[0m\n\u001b[0;32m     17\u001b[0m \u001b[0mtc\u001b[0m\u001b[1;33m=\u001b[0m\u001b[0mTalkingCalculator\u001b[0m\u001b[1;33m(\u001b[0m\u001b[1;33m)\u001b[0m\u001b[1;33m\u001b[0m\u001b[1;33m\u001b[0m\u001b[0m\n\u001b[0;32m     18\u001b[0m \u001b[0mtc\u001b[0m\u001b[1;33m.\u001b[0m\u001b[0mcalculate\u001b[0m\u001b[1;33m(\u001b[0m\u001b[1;34m'1+2*3'\u001b[0m\u001b[1;33m)\u001b[0m\u001b[1;33m\u001b[0m\u001b[1;33m\u001b[0m\u001b[0m\n\u001b[1;32m---> 19\u001b[1;33m \u001b[0mtc\u001b[0m\u001b[1;33m.\u001b[0m\u001b[0mtalk\u001b[0m\u001b[1;33m(\u001b[0m\u001b[1;33m)\u001b[0m\u001b[1;33m\u001b[0m\u001b[1;33m\u001b[0m\u001b[0m\n\u001b[0m",
      "\u001b[1;32m<ipython-input-49-dc1b08473c77>\u001b[0m in \u001b[0;36mtalk\u001b[1;34m(self)\u001b[0m\n\u001b[0;32m     13\u001b[0m \u001b[1;33m\u001b[0m\u001b[0m\n\u001b[0;32m     14\u001b[0m     \u001b[1;32mdef\u001b[0m \u001b[0mtalk\u001b[0m\u001b[1;33m(\u001b[0m\u001b[0mself\u001b[0m\u001b[1;33m)\u001b[0m\u001b[1;33m:\u001b[0m\u001b[1;33m\u001b[0m\u001b[1;33m\u001b[0m\u001b[0m\n\u001b[1;32m---> 15\u001b[1;33m         \u001b[0mself\u001b[0m\u001b[1;33m.\u001b[0m\u001b[0m__talker\u001b[0m\u001b[1;33m.\u001b[0m\u001b[0mtalk\u001b[0m\u001b[1;33m(\u001b[0m\u001b[0mself\u001b[0m\u001b[1;33m.\u001b[0m\u001b[0m__value\u001b[0m\u001b[1;33m)\u001b[0m\u001b[1;33m\u001b[0m\u001b[1;33m\u001b[0m\u001b[0m\n\u001b[0m\u001b[0;32m     16\u001b[0m \u001b[1;33m\u001b[0m\u001b[0m\n\u001b[0;32m     17\u001b[0m \u001b[0mtc\u001b[0m\u001b[1;33m=\u001b[0m\u001b[0mTalkingCalculator\u001b[0m\u001b[1;33m(\u001b[0m\u001b[1;33m)\u001b[0m\u001b[1;33m\u001b[0m\u001b[1;33m\u001b[0m\u001b[0m\n",
      "\u001b[1;31mAttributeError\u001b[0m: 'TalkingCalculator' object has no attribute '_TalkingCalculator__value'"
     ]
    }
   ],
   "source": [
    "class Calculator:\n",
    "    def calculate(self,expression):\n",
    "        self.value=eval(expression)\n",
    "        \n",
    "class Talker:\n",
    "    def talk(self,value):\n",
    "        print(f'The answer is:{value}')\n",
    "        \n",
    "class TalkingCalculator(Calculator):\n",
    "    def __init__(self):\n",
    "        self.__talker = Talker()\n",
    "        self.value = None\n",
    "        \n",
    "    def talk(self):\n",
    "        self.__talker.talk(self.__value)\n",
    "        \n",
    "tc=TalkingCalculator()\n",
    "tc.calculate('1+2*3')\n",
    "tc.talk()"
   ]
  },
  {
   "cell_type": "code",
   "execution_count": 54,
   "id": "300260ba",
   "metadata": {},
   "outputs": [
    {
     "ename": "NameError",
     "evalue": "name 'Knife' is not defined",
     "output_type": "error",
     "traceback": [
      "\u001b[1;31m---------------------------------------------------------------------------\u001b[0m",
      "\u001b[1;31mNameError\u001b[0m                                 Traceback (most recent call last)",
      "\u001b[1;32m<ipython-input-54-4721309da6f3>\u001b[0m in \u001b[0;36m<module>\u001b[1;34m\u001b[0m\n\u001b[0;32m     21\u001b[0m \u001b[0msk\u001b[0m\u001b[1;33m.\u001b[0m\u001b[0madd_tool\u001b[0m\u001b[1;33m(\u001b[0m\u001b[1;34m'Big screw'\u001b[0m\u001b[1;33m,\u001b[0m\u001b[0mScrewDriver\u001b[0m\u001b[1;33m(\u001b[0m\u001b[1;36m10\u001b[0m\u001b[1;33m)\u001b[0m\u001b[1;33m)\u001b[0m\u001b[1;33m\u001b[0m\u001b[1;33m\u001b[0m\u001b[0m\n\u001b[0;32m     22\u001b[0m \u001b[0msk\u001b[0m\u001b[1;33m.\u001b[0m\u001b[0madd_tool\u001b[0m\u001b[1;33m(\u001b[0m\u001b[1;34m'Small screw'\u001b[0m\u001b[1;33m,\u001b[0m\u001b[0mScrewDriver\u001b[0m\u001b[1;33m(\u001b[0m\u001b[1;36m5\u001b[0m\u001b[1;33m)\u001b[0m\u001b[1;33m)\u001b[0m\u001b[1;33m\u001b[0m\u001b[1;33m\u001b[0m\u001b[0m\n\u001b[1;32m---> 23\u001b[1;33m \u001b[0msk\u001b[0m\u001b[1;33m.\u001b[0m\u001b[0madd_tool\u001b[0m\u001b[1;33m(\u001b[0m\u001b[1;34m'Knife'\u001b[0m\u001b[1;33m,\u001b[0m\u001b[0mKnife\u001b[0m\u001b[1;33m(\u001b[0m\u001b[1;33m)\u001b[0m\u001b[1;33m)\u001b[0m\u001b[1;33m\u001b[0m\u001b[1;33m\u001b[0m\u001b[0m\n\u001b[0m\u001b[0;32m     24\u001b[0m \u001b[1;33m\u001b[0m\u001b[0m\n\u001b[0;32m     25\u001b[0m \u001b[0msk\u001b[0m\u001b[1;33m.\u001b[0m\u001b[0mtools\u001b[0m\u001b[1;33m[\u001b[0m\u001b[1;34m'Big screw'\u001b[0m\u001b[1;33m]\u001b[0m\u001b[1;33m.\u001b[0m\u001b[0mwork\u001b[0m\u001b[1;33m(\u001b[0m\u001b[1;33m)\u001b[0m\u001b[1;33m\u001b[0m\u001b[1;33m\u001b[0m\u001b[0m\n",
      "\u001b[1;31mNameError\u001b[0m: name 'Knife' is not defined"
     ]
    }
   ],
   "source": [
    "class knife:\n",
    "    def cut(self):\n",
    "        print('Cutting...')\n",
    "        \n",
    "class ScrewDriver:\n",
    "    def __init__(self,size):\n",
    "        self.size=size\n",
    "        \n",
    "    def screw(self):\n",
    "        print(f'{self.size} Screwing...')\n",
    "        \n",
    "class SwissKnife():\n",
    "    def __init__(self):\n",
    "        self.tools={}\n",
    "        \n",
    "    def add_tool(self,name,tool):\n",
    "        self.tools[name]=tool\n",
    "\n",
    "        \n",
    "sk = SwissKnife()\n",
    "sk.add_tool('Big screw',ScrewDriver(10))\n",
    "sk.add_tool('Small screw',ScrewDriver(5))\n",
    "sk.add_tool('Knife',Knife())   \n",
    "\n",
    "sk.tools['Big screw'].work()\n",
    "for key,value in sk.tools.items():\n",
    "    value.work()"
   ]
  },
  {
   "cell_type": "code",
   "execution_count": 55,
   "id": "e68859de",
   "metadata": {},
   "outputs": [
    {
     "ename": "NameError",
     "evalue": "name 'Knife' is not defined",
     "output_type": "error",
     "traceback": [
      "\u001b[1;31m---------------------------------------------------------------------------\u001b[0m",
      "\u001b[1;31mNameError\u001b[0m                                 Traceback (most recent call last)",
      "\u001b[1;32m<ipython-input-55-e446d5618718>\u001b[0m in \u001b[0;36m<module>\u001b[1;34m\u001b[0m\n\u001b[0;32m     21\u001b[0m \u001b[0msk\u001b[0m\u001b[1;33m.\u001b[0m\u001b[0madd_tool\u001b[0m\u001b[1;33m(\u001b[0m\u001b[1;34m'Big screw'\u001b[0m\u001b[1;33m,\u001b[0m\u001b[0mScrewDriver\u001b[0m\u001b[1;33m(\u001b[0m\u001b[1;36m10\u001b[0m\u001b[1;33m)\u001b[0m\u001b[1;33m)\u001b[0m\u001b[1;33m\u001b[0m\u001b[1;33m\u001b[0m\u001b[0m\n\u001b[0;32m     22\u001b[0m \u001b[0msk\u001b[0m\u001b[1;33m.\u001b[0m\u001b[0madd_tool\u001b[0m\u001b[1;33m(\u001b[0m\u001b[1;34m'Small screw'\u001b[0m\u001b[1;33m,\u001b[0m\u001b[0mScrewDriver\u001b[0m\u001b[1;33m(\u001b[0m\u001b[1;36m5\u001b[0m\u001b[1;33m)\u001b[0m\u001b[1;33m)\u001b[0m\u001b[1;33m\u001b[0m\u001b[1;33m\u001b[0m\u001b[0m\n\u001b[1;32m---> 23\u001b[1;33m \u001b[0msk\u001b[0m\u001b[1;33m.\u001b[0m\u001b[0madd_tool\u001b[0m\u001b[1;33m(\u001b[0m\u001b[1;34m'Knife'\u001b[0m\u001b[1;33m,\u001b[0m\u001b[0mKnife\u001b[0m\u001b[1;33m(\u001b[0m\u001b[1;33m)\u001b[0m\u001b[1;33m)\u001b[0m\u001b[1;33m\u001b[0m\u001b[1;33m\u001b[0m\u001b[0m\n\u001b[0m\u001b[0;32m     24\u001b[0m \u001b[1;33m\u001b[0m\u001b[0m\n\u001b[0;32m     25\u001b[0m \u001b[0msk\u001b[0m\u001b[1;33m.\u001b[0m\u001b[0muse_tool\u001b[0m\u001b[1;33m(\u001b[0m\u001b[1;34m'Knife'\u001b[0m\u001b[1;33m)\u001b[0m\u001b[1;33m\u001b[0m\u001b[1;33m\u001b[0m\u001b[0m\n",
      "\u001b[1;31mNameError\u001b[0m: name 'Knife' is not defined"
     ]
    }
   ],
   "source": [
    "class knife:\n",
    "    def cut(self):\n",
    "        print('Cutting...')\n",
    "        \n",
    "class ScrewDriver:\n",
    "    def __init__(self,size):\n",
    "        self.size=size\n",
    "        \n",
    "    def screw(self):\n",
    "        print(f'{self.size} Screwing...')\n",
    "        \n",
    "class SwissKnife():\n",
    "    def __init__(self):\n",
    "        self.tools={}\n",
    "        \n",
    "    def add_tool(self,name,tool):\n",
    "        self.tools[name]=tool\n",
    "\n",
    "        \n",
    "sk = SwissKnife()\n",
    "sk.add_tool('Big screw',ScrewDriver(10))\n",
    "sk.add_tool('Small screw',ScrewDriver(5))\n",
    "sk.add_tool('Knife',Knife())   \n",
    "\n",
    "sk.use_tool('Knife')\n",
    "sk.use_tool('Small screw')"
   ]
  },
  {
   "cell_type": "code",
   "execution_count": null,
   "id": "25363f5f",
   "metadata": {},
   "outputs": [],
   "source": [
    "from abc import ABC,abstractmethod\n",
    "\n",
    "class Tool(ABC):\n",
    "    @abstractmethod\n",
    "    def work(self):\n",
    "        pass\n",
    "    \n",
    "class Knife(Tool)\n"
   ]
  },
  {
   "cell_type": "code",
   "execution_count": 56,
   "id": "5e0f33f6",
   "metadata": {},
   "outputs": [],
   "source": [
    "k=knife()"
   ]
  },
  {
   "cell_type": "code",
   "execution_count": 57,
   "id": "b99bf386",
   "metadata": {},
   "outputs": [
    {
     "ename": "NameError",
     "evalue": "name 'Tool' is not defined",
     "output_type": "error",
     "traceback": [
      "\u001b[1;31m---------------------------------------------------------------------------\u001b[0m",
      "\u001b[1;31mNameError\u001b[0m                                 Traceback (most recent call last)",
      "\u001b[1;32m<ipython-input-57-938ce2256648>\u001b[0m in \u001b[0;36m<module>\u001b[1;34m\u001b[0m\n\u001b[1;32m----> 1\u001b[1;33m \u001b[0misinstance\u001b[0m\u001b[1;33m(\u001b[0m\u001b[0mk\u001b[0m\u001b[1;33m,\u001b[0m\u001b[0mTool\u001b[0m\u001b[1;33m)\u001b[0m\u001b[1;33m\u001b[0m\u001b[1;33m\u001b[0m\u001b[0m\n\u001b[0m",
      "\u001b[1;31mNameError\u001b[0m: name 'Tool' is not defined"
     ]
    }
   ],
   "source": [
    "isinstance(k,Tool)"
   ]
  },
  {
   "cell_type": "code",
   "execution_count": null,
   "id": "8105eee6",
   "metadata": {},
   "outputs": [],
   "source": []
  }
 ],
 "metadata": {
  "kernelspec": {
   "display_name": "Python 3",
   "language": "python",
   "name": "python3"
  },
  "language_info": {
   "codemirror_mode": {
    "name": "ipython",
    "version": 3
   },
   "file_extension": ".py",
   "mimetype": "text/x-python",
   "name": "python",
   "nbconvert_exporter": "python",
   "pygments_lexer": "ipython3",
   "version": "3.8.8"
  }
 },
 "nbformat": 4,
 "nbformat_minor": 5
}
