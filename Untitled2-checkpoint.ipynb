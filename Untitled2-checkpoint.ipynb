{
 "cells": [
  {
   "cell_type": "code",
   "execution_count": 1,
   "id": "7fdd6b40",
   "metadata": {},
   "outputs": [
    {
     "data": {
      "text/plain": [
       "[1, 2, 3, [4, 5, 6]]"
      ]
     },
     "execution_count": 1,
     "metadata": {},
     "output_type": "execute_result"
    }
   ],
   "source": [
    "a=[1,2,3]\n",
    "b=[4,5,6]\n",
    "a.append(b)\n",
    "a"
   ]
  },
  {
   "cell_type": "code",
   "execution_count": 2,
   "id": "cbcd68ca",
   "metadata": {},
   "outputs": [
    {
     "data": {
      "text/plain": [
       "[1, 2, 3, 4, 5, 6]"
      ]
     },
     "execution_count": 2,
     "metadata": {},
     "output_type": "execute_result"
    }
   ],
   "source": [
    "a=[1,2,3]\n",
    "a.extend(b)\n",
    "a"
   ]
  },
  {
   "cell_type": "code",
   "execution_count": 3,
   "id": "2dc028a5",
   "metadata": {},
   "outputs": [],
   "source": [
    "a=[1,2,3]\n",
    "b=[4,5,6]\n",
    "a+=b"
   ]
  },
  {
   "cell_type": "code",
   "execution_count": 5,
   "id": "4cb9ffd6",
   "metadata": {},
   "outputs": [
    {
     "ename": "SyntaxError",
     "evalue": "cannot assign to operator (<ipython-input-5-f7b13839ce6a>, line 3)",
     "output_type": "error",
     "traceback": [
      "\u001b[1;36m  File \u001b[1;32m\"<ipython-input-5-f7b13839ce6a>\"\u001b[1;36m, line \u001b[1;32m3\u001b[0m\n\u001b[1;33m    a+b=c\u001b[0m\n\u001b[1;37m    ^\u001b[0m\n\u001b[1;31mSyntaxError\u001b[0m\u001b[1;31m:\u001b[0m cannot assign to operator\n"
     ]
    }
   ],
   "source": []
  },
  {
   "cell_type": "code",
   "execution_count": 4,
   "id": "f627f922",
   "metadata": {},
   "outputs": [
    {
     "data": {
      "text/plain": [
       "[1, 2, 3, 4, 5, 6]"
      ]
     },
     "execution_count": 4,
     "metadata": {},
     "output_type": "execute_result"
    }
   ],
   "source": [
    "a"
   ]
  },
  {
   "cell_type": "code",
   "execution_count": 6,
   "id": "bac4d223",
   "metadata": {},
   "outputs": [],
   "source": [
    "a.reverse()#翻转"
   ]
  },
  {
   "cell_type": "code",
   "execution_count": 7,
   "id": "6fd53bb8",
   "metadata": {},
   "outputs": [
    {
     "data": {
      "text/plain": [
       "[6, 5, 4, 3, 2, 1]"
      ]
     },
     "execution_count": 7,
     "metadata": {},
     "output_type": "execute_result"
    }
   ],
   "source": [
    "a"
   ]
  },
  {
   "cell_type": "code",
   "execution_count": 14,
   "id": "3e4231db",
   "metadata": {},
   "outputs": [
    {
     "name": "stdout",
     "output_type": "stream",
     "text": [
      "[22, 41, 81, 50, 29, 40, 40, 81, 58, 24, 19, 46, 18, 40, 35, 95, 50, 76, 89, 13, 79, 29, 13, 36, 99, 38, 59, 17, 4, 28, 51, 17, 60, 55, 33, 2, 28, 95, 63, 22, 62, 61, 5, 84, 76, 93, 28, 52, 22, 2, 82, 15, 37, 39, 72, 66, 64, 38, 26, 96, 64, 74, 57, 77, 26, 38, 28, 1, 75, 32, 16, 35, 63, 57, 19, 89, 92, 5, 76, 88, 12, 82, 29, 73, 4, 95, 58, 86, 38, 2, 37, 18, 14, 76, 87, 16, 98, 26, 18, 97]\n"
     ]
    }
   ],
   "source": [
    "import random#随机数\n",
    "    \n",
    "a = list()\n",
    "for x in range(0,100):\n",
    "    a.append(random.randint(0,100))\n",
    "print(a)"
   ]
  },
  {
   "cell_type": "code",
   "execution_count": 20,
   "id": "dee75d37",
   "metadata": {},
   "outputs": [
    {
     "name": "stdout",
     "output_type": "stream",
     "text": [
      "[95, 53, 50, 44, 84, 72, 35, 5, 99, 22, 39, 92, 50, 41, 7, 34, 41, 34, 83, 27, 88, 70, 84, 39, 20, 27, 81, 79, 74, 32, 58, 20, 66, 40, 60, 78, 47, 86, 23, 14, 9, 89, 65, 0, 5, 26, 99, 69, 24, 63, 6, 77, 78, 90, 42, 55, 9, 80, 36, 79, 24, 55, 77, 46, 77, 30, 97, 23, 13, 35, 41, 64, 78, 2, 90, 45, 61, 73, 27, 65, 60, 36, 87, 21, 74, 82, 64, 74, 35, 16, 55, 57, 35, 7, 44, 31, 25, 31, 31, 30]\n"
     ]
    }
   ],
   "source": [
    "import random\n",
    "    \n",
    "a=[None]*100\n",
    "for x in range(0,100):\n",
    "    a[x]=random.randint(0,100)\n",
    "    \n",
    "print(a)#运行格式对齐"
   ]
  },
  {
   "cell_type": "code",
   "execution_count": 22,
   "id": "ca6347db",
   "metadata": {},
   "outputs": [
    {
     "name": "stdout",
     "output_type": "stream",
     "text": [
      "[28, 41, 12, 60, 34, 32, 29, 17, 43, 3, 71, 49, 34, 35, 99, 71, 89, 86, 59, 27, 4, 79, 99, 17, 3, 9, 19, 73, 75, 25, 38, 4, 65, 86, 42, 64, 82, 75, 34, 0, 69, 8, 80, 18, 74, 32, 87, 55, 35, 55, 56, 46, 20, 99, 41, 92, 69, 75, 28, 42, 78, 79, 39, 41, 23, 28, 18, 74, 64, 70, 12, 52, 42, 80, 5, 44, 33, 65, 28, 72, 59, 16, 22, 64, 79, 71, 28, 65, 70, 53, 14, 79, 48, 51, 72, 56, 75, 7, 58, 37]\n"
     ]
    }
   ],
   "source": [
    "import random\n",
    "    \n",
    "a=[None]*100\n",
    "for x in range(0,100):\n",
    "    a[x]=random.randint(0,100)\n",
    "    \n",
    "print(a)"
   ]
  },
  {
   "cell_type": "code",
   "execution_count": 23,
   "id": "a1c2a736",
   "metadata": {},
   "outputs": [],
   "source": [
    "a.sort()"
   ]
  },
  {
   "cell_type": "code",
   "execution_count": 24,
   "id": "6bb79048",
   "metadata": {},
   "outputs": [
    {
     "name": "stdout",
     "output_type": "stream",
     "text": [
      "[0, 3, 3, 4, 4, 5, 7, 8, 9, 12, 12, 14, 16, 17, 17, 18, 18, 19, 20, 22, 23, 25, 27, 28, 28, 28, 28, 28, 29, 32, 32, 33, 34, 34, 34, 35, 35, 37, 38, 39, 41, 41, 41, 42, 42, 42, 43, 44, 46, 48, 49, 51, 52, 53, 55, 55, 56, 56, 58, 59, 59, 60, 64, 64, 64, 65, 65, 65, 69, 69, 70, 70, 71, 71, 71, 72, 72, 73, 74, 74, 75, 75, 75, 75, 78, 79, 79, 79, 79, 80, 80, 82, 86, 86, 87, 89, 92, 99, 99, 99]\n"
     ]
    }
   ],
   "source": [
    "print(a)"
   ]
  },
  {
   "cell_type": "code",
   "execution_count": 26,
   "id": "deaca0d9",
   "metadata": {},
   "outputs": [
    {
     "name": "stdout",
     "output_type": "stream",
     "text": [
      "[0, 3, 3, 4, 4, 5, 7, 8, 9, 12, 12, 14, 16, 17, 17, 18, 18, 19, 20, 22, 23, 25, 27, 28, 28, 28, 28, 28, 29, 32, 32, 33, 34, 34, 34, 35, 35, 37, 38, 39, 41, 41, 41, 42, 42, 42, 43, 44, 46, 48, 49, 51, 52, 53, 55, 55, 56, 56, 58, 59, 59, 60, 64, 64, 64, 65, 65, 65, 69, 69, 70, 70, 71, 71, 71, 72, 72, 73, 74, 74, 75, 75, 75, 75, 78, 79, 79, 79, 79, 80, 80, 82, 86, 86, 87, 89, 92, 99, 99, 99]\n"
     ]
    }
   ],
   "source": [
    "b=sorted(a)\n",
    "print(b)"
   ]
  },
  {
   "cell_type": "code",
   "execution_count": 27,
   "id": "2192a02d",
   "metadata": {},
   "outputs": [
    {
     "data": {
      "text/plain": [
       "5050"
      ]
     },
     "execution_count": 27,
     "metadata": {},
     "output_type": "execute_result"
    }
   ],
   "source": [
    "sum(range(1,101))"
   ]
  },
  {
   "cell_type": "code",
   "execution_count": null,
   "id": "6f16afcd",
   "metadata": {},
   "outputs": [],
   "source": [
    "month=input('month:')\n",
    "day = input ('Day:')\n",
    "count=day\n",
    "if month>=2:\n",
    "    count+=31\n",
    "if month>=3:\n",
    "    count+=28\n",
    "if month>=4:\n",
    "    count+=31\n",
    "if month>=5:\n",
    "    count+=30\n",
    "if month>=6:\n",
    "    count+=31\n",
    "if month>=7:\n",
    "    count+=30\n",
    "if month>=8:\n",
    "    count+=31\n",
    "if month >=9:\n",
    "    count+=31\n",
    "if month >= 10:\n",
    "    count+=30\n",
    "if month >= 11:\n",
    "    count+=31\n",
    "if month >= 12:\n",
    "    count+=30\n",
    "print(f'This is the {count}th day of the year.')"
   ]
  },
  {
   "cell_type": "code",
   "execution_count": 4,
   "id": "86455246",
   "metadata": {},
   "outputs": [
    {
     "name": "stdout",
     "output_type": "stream",
     "text": [
      "month:3\n",
      "Day:1\n"
     ]
    },
    {
     "ename": "TypeError",
     "evalue": "unsupported operand type(s) for -: 'str' and 'int'",
     "output_type": "error",
     "traceback": [
      "\u001b[1;31m---------------------------------------------------------------------------\u001b[0m",
      "\u001b[1;31mTypeError\u001b[0m                                 Traceback (most recent call last)",
      "\u001b[1;32m<ipython-input-4-b2dcf31cf1e4>\u001b[0m in \u001b[0;36m<module>\u001b[1;34m\u001b[0m\n\u001b[0;32m      3\u001b[0m \u001b[0mcount\u001b[0m \u001b[1;33m=\u001b[0m\u001b[0mday\u001b[0m\u001b[1;33m\u001b[0m\u001b[1;33m\u001b[0m\u001b[0m\n\u001b[0;32m      4\u001b[0m \u001b[0mdays_in_month\u001b[0m\u001b[1;33m=\u001b[0m\u001b[1;33m[\u001b[0m\u001b[1;36m31\u001b[0m\u001b[1;33m,\u001b[0m\u001b[1;36m28\u001b[0m\u001b[1;33m,\u001b[0m\u001b[1;36m31\u001b[0m\u001b[1;33m,\u001b[0m\u001b[1;36m30\u001b[0m\u001b[1;33m,\u001b[0m\u001b[1;36m31\u001b[0m\u001b[1;33m,\u001b[0m\u001b[1;36m30\u001b[0m\u001b[1;33m,\u001b[0m\u001b[1;36m31\u001b[0m\u001b[1;33m,\u001b[0m\u001b[1;36m31\u001b[0m\u001b[1;33m,\u001b[0m\u001b[1;36m30\u001b[0m\u001b[1;33m,\u001b[0m\u001b[1;36m31\u001b[0m\u001b[1;33m,\u001b[0m\u001b[1;36m30\u001b[0m\u001b[1;33m,\u001b[0m\u001b[1;36m31\u001b[0m\u001b[1;33m]\u001b[0m\u001b[1;33m\u001b[0m\u001b[1;33m\u001b[0m\u001b[0m\n\u001b[1;32m----> 5\u001b[1;33m \u001b[0mcount\u001b[0m\u001b[1;33m+=\u001b[0m\u001b[0msum\u001b[0m\u001b[1;33m(\u001b[0m\u001b[0mdays_in_month\u001b[0m\u001b[1;33m[\u001b[0m\u001b[1;36m0\u001b[0m\u001b[1;33m:\u001b[0m \u001b[0mmonth\u001b[0m\u001b[1;33m-\u001b[0m\u001b[1;36m1\u001b[0m\u001b[1;33m]\u001b[0m\u001b[1;33m)\u001b[0m\u001b[1;33m\u001b[0m\u001b[1;33m\u001b[0m\u001b[0m\n\u001b[0m\u001b[0;32m      6\u001b[0m \u001b[1;33m\u001b[0m\u001b[0m\n\u001b[0;32m      7\u001b[0m \u001b[0mprint\u001b[0m\u001b[1;33m(\u001b[0m\u001b[1;34mf'This is the {count}th day of the year.'\u001b[0m\u001b[1;33m)\u001b[0m\u001b[1;33m\u001b[0m\u001b[1;33m\u001b[0m\u001b[0m\n",
      "\u001b[1;31mTypeError\u001b[0m: unsupported operand type(s) for -: 'str' and 'int'"
     ]
    }
   ],
   "source": [
    "month=input('month:')\n",
    "day = input ('Day:')\n",
    "count =day\n",
    "days_in_month=[31,28,31,30,31,30,31,31,30,31,30,31]\n",
    "count+=sum(days_in_month[0: month-1])\n",
    "\n",
    "print(f'This is the {count}th day of the year.')"
   ]
  },
  {
   "cell_type": "code",
   "execution_count": null,
   "id": "629760a7",
   "metadata": {},
   "outputs": [],
   "source": []
  },
  {
   "cell_type": "code",
   "execution_count": null,
   "id": "cded259c",
   "metadata": {},
   "outputs": [
    {
     "name": "stdout",
     "output_type": "stream",
     "text": [
      "input a score:100\n"
     ]
    }
   ],
   "source": [
    "grades='D'*60+'C'*15+'B'*15+'A'*11\n",
    "while True:\n",
    "    score=int(input('input a score:'))\n",
    "    if score < 0 or score > 100:\n",
    "        break\n",
    "        print(grades[score])"
   ]
  },
  {
   "cell_type": "code",
   "execution_count": 1,
   "id": "24a93dd6",
   "metadata": {},
   "outputs": [
    {
     "name": "stdout",
     "output_type": "stream",
     "text": [
      "5 2 2 3 4 5 1 6 1 2 1 1 3 3 6 2 5 5 4 1 5 2 3 6 5 2 6 5 1 3 1 3 1 2 1 1 5 3 5 5 6 6 2 2 5 5 6 2 1 1 3 6 5 2 1 6 6 4 4 5 2 6 1 3 5 3 1 1 2 5 5 4 2 5 4 2 1 6 1 4 1 6 1 3 4 6 3 6 4 1 2 6 5 2 1 3 1 5 3 6 "
     ]
    }
   ],
   "source": [
    "import random\n",
    "for i in range(0,100):\n",
    "    value=random.randint(1,6)\n",
    "    print(value,sep=' ',end=' ')"
   ]
  },
  {
   "cell_type": "code",
   "execution_count": 2,
   "id": "90a59b39",
   "metadata": {},
   "outputs": [
    {
     "name": "stdout",
     "output_type": "stream",
     "text": [
      "[9917, 10046, 9915, 9961, 10078, 10083]\n"
     ]
    }
   ],
   "source": [
    "import random\n",
    "count=[0]*6\n",
    "for i in range(0,60000):\n",
    "    count[random.randint(1,6)-1]+=1\n",
    "print(count)"
   ]
  },
  {
   "cell_type": "code",
   "execution_count": null,
   "id": "e99d3a24",
   "metadata": {
    "collapsed": true
   },
   "outputs": [],
   "source": [
    "import matplotlib.pyplot as plt"
   ]
  },
  {
   "cell_type": "code",
   "execution_count": null,
   "id": "655af038",
   "metadata": {},
   "outputs": [],
   "source": [
    "fig,ax=plt.subplots()\n",
    "plt.bar(range(1,7),count)\n",
    "plt.show()\n"
   ]
  },
  {
   "cell_type": "code",
   "execution_count": 3,
   "id": "9660464c",
   "metadata": {},
   "outputs": [
    {
     "name": "stdout",
     "output_type": "stream",
     "text": [
      "[2, 3, 2, 6, 3, 4]\n",
      "[0.1, 0.15, 0.1, 0.3, 0.15, 0.2]\n"
     ]
    }
   ],
   "source": [
    "import random\n",
    "count =[0]*6\n",
    "\n",
    "for i in range(0,20):\n",
    "    count[random.randint(1,6)-1]+=1\n",
    "    \n",
    "percentage=[]\n",
    "for i in range(0,6):\n",
    "    percentage.append(count[i]/sum(count))\n",
    "print(count)\n",
    "print(percentage)"
   ]
  },
  {
   "cell_type": "code",
   "execution_count": 5,
   "id": "20341b75",
   "metadata": {},
   "outputs": [
    {
     "ename": "SyntaxError",
     "evalue": "invalid syntax (<ipython-input-5-4ed08ab44f75>, line 5)",
     "output_type": "error",
     "traceback": [
      "\u001b[1;36m  File \u001b[1;32m\"<ipython-input-5-4ed08ab44f75>\"\u001b[1;36m, line \u001b[1;32m5\u001b[0m\n\u001b[1;33m    for j in range(0,1000)\u001b[0m\n\u001b[1;37m                          ^\u001b[0m\n\u001b[1;31mSyntaxError\u001b[0m\u001b[1;31m:\u001b[0m invalid syntax\n"
     ]
    }
   ],
   "source": [
    "import random\n",
    "count =[0]*6\n",
    "history=[]\n",
    "\n",
    "for j in range(0,1000)\n",
    "    for i in range(0,20):\n",
    "        count[random.randint(1,6)-1]+=1\n",
    "    \n",
    "    percentage=[]\n",
    "    for i in range(0,6):\n",
    "        percentage.append(count[i]/sum(count))\n",
    "    history.append(percentage)\n",
    "print(history)"
   ]
  },
  {
   "cell_type": "code",
   "execution_count": 6,
   "id": "d42ccb38",
   "metadata": {},
   "outputs": [
    {
     "ename": "NameError",
     "evalue": "name 'history' is not defined",
     "output_type": "error",
     "traceback": [
      "\u001b[1;31m---------------------------------------------------------------------------\u001b[0m",
      "\u001b[1;31mNameError\u001b[0m                                 Traceback (most recent call last)",
      "\u001b[1;32m<ipython-input-6-c78f2cfa3b35>\u001b[0m in \u001b[0;36m<module>\u001b[1;34m\u001b[0m\n\u001b[0;32m      1\u001b[0m \u001b[1;32mimport\u001b[0m \u001b[0mmatplotlib\u001b[0m\u001b[1;33m.\u001b[0m\u001b[0mpyplot\u001b[0m \u001b[1;32mas\u001b[0m \u001b[0mplt\u001b[0m\u001b[1;33m\u001b[0m\u001b[1;33m\u001b[0m\u001b[0m\n\u001b[0;32m      2\u001b[0m \u001b[0mfig\u001b[0m\u001b[1;33m,\u001b[0m\u001b[0max\u001b[0m\u001b[1;33m=\u001b[0m\u001b[0mplt\u001b[0m\u001b[1;33m.\u001b[0m\u001b[0msubplots\u001b[0m\u001b[1;33m(\u001b[0m\u001b[1;33m)\u001b[0m\u001b[1;33m\u001b[0m\u001b[1;33m\u001b[0m\u001b[0m\n\u001b[1;32m----> 3\u001b[1;33m \u001b[0mplt\u001b[0m\u001b[1;33m.\u001b[0m\u001b[0mplot\u001b[0m\u001b[1;33m(\u001b[0m\u001b[0mrange\u001b[0m\u001b[1;33m(\u001b[0m\u001b[1;36m1000\u001b[0m\u001b[1;33m)\u001b[0m\u001b[1;33m,\u001b[0m\u001b[0mhistory\u001b[0m\u001b[1;33m)\u001b[0m\u001b[1;33m\u001b[0m\u001b[1;33m\u001b[0m\u001b[0m\n\u001b[0m\u001b[0;32m      4\u001b[0m \u001b[0mplt\u001b[0m\u001b[1;33m.\u001b[0m\u001b[0mshow\u001b[0m\u001b[1;33m(\u001b[0m\u001b[1;33m)\u001b[0m\u001b[1;33m\u001b[0m\u001b[1;33m\u001b[0m\u001b[0m\n",
      "\u001b[1;31mNameError\u001b[0m: name 'history' is not defined"
     ]
    },
    {
     "data": {
      "image/png": "[encoded data removed]",
      "text/plain": [
       "<Figure size 432x288 with 1 Axes>"
      ]
     },
     "metadata": {
      "needs_background": "light"
     },
     "output_type": "display_data"
    }
   ],
   "source": [
    "import matplotlib.pyplot as plt\n",
    "fig,ax=plt.subplots()\n",
    "plt.plot(range(1000),history)\n",
    "plt.show()"
   ]
  },
  {
   "cell_type": "code",
   "execution_count": 1,
   "id": "52d59023",
   "metadata": {},
   "outputs": [
    {
     "data": {
      "text/plain": [
       "[2, 3]"
      ]
     },
     "execution_count": 1,
     "metadata": {},
     "output_type": "execute_result"
    }
   ],
   "source": [
    "a=[1,2,3]\n",
    "a.pop(0)\n",
    "a"
   ]
  },
  {
   "cell_type": "code",
   "execution_count": 5,
   "id": "ea820016",
   "metadata": {},
   "outputs": [
    {
     "name": "stdout",
     "output_type": "stream",
     "text": [
      "78\n"
     ]
    }
   ],
   "source": [
    "import random\n",
    "\n",
    "count=0\n",
    "last_three=[0,0,0,0]\n",
    "\n",
    "for i in range(0,100000):\n",
    "    value = random.randint(1,6)\n",
    "    last_three.pop(0)\n",
    "    last_three.append(value)\n",
    "    if last_three==[6,6,6,6]:\n",
    "        count+=1\n",
    "print(count)"
   ]
  },
  {
   "cell_type": "code",
   "execution_count": 6,
   "id": "638a9525",
   "metadata": {},
   "outputs": [
    {
     "name": "stdout",
     "output_type": "stream",
     "text": [
      "[0, 1, 2, 3, 4, 5, 6, 7, 8, 9]\n",
      "[0, 1, 4, 9, 16, 25, 36, 49, 64, 81]\n"
     ]
    }
   ],
   "source": [
    "m=list(range(0,10))\n",
    "m2=[]\n",
    "\n",
    "for i in range(0,10):\n",
    "    m2.append(m[i]*m[i])\n",
    "print(m)\n",
    "print(m2)"
   ]
  },
  {
   "cell_type": "code",
   "execution_count": 7,
   "id": "d15c01d3",
   "metadata": {},
   "outputs": [
    {
     "name": "stdout",
     "output_type": "stream",
     "text": [
      "[0, 1, 2, 3, 4, 5, 6, 7, 8, 9]\n",
      "[0, 1, 4, 9, 16, 25, 36, 49, 64, 81]\n"
     ]
    }
   ],
   "source": [
    "m=list(range(0,10))\n",
    "m2=[]\n",
    "\n",
    "for i in m:\n",
    "    m2.append(i*i)\n",
    "print(m)\n",
    "print(m2)"
   ]
  },
  {
   "cell_type": "code",
   "execution_count": 8,
   "id": "9ebd2191",
   "metadata": {},
   "outputs": [
    {
     "name": "stdout",
     "output_type": "stream",
     "text": [
      "[0, 1, 2, 3, 4, 5, 6, 7, 8, 9]\n",
      "[0, 1, 4, 9, 16, 25, 36, 49, 64, 81]\n"
     ]
    }
   ],
   "source": [
    "m=list(range(0,10))\n",
    "m2=[i*i for i in m]\n",
    "\n",
    "print(m)\n",
    "print(m2)"
   ]
  },
  {
   "cell_type": "code",
   "execution_count": 9,
   "id": "70def1c4",
   "metadata": {},
   "outputs": [],
   "source": [
    "m=[i*i for i in range(0,10)]"
   ]
  },
  {
   "cell_type": "code",
   "execution_count": 13,
   "id": "673179ea",
   "metadata": {},
   "outputs": [
    {
     "data": {
      "text/plain": [
       "[0, 1, 4, 9, 16, 25, 36, 49, 64, 81]"
      ]
     },
     "execution_count": 13,
     "metadata": {},
     "output_type": "execute_result"
    }
   ],
   "source": [
    "m"
   ]
  },
  {
   "cell_type": "code",
   "execution_count": 16,
   "id": "e1e10a25",
   "metadata": {},
   "outputs": [
    {
     "data": {
      "text/plain": [
       "[0, 9, 36, 81]"
      ]
     },
     "execution_count": 16,
     "metadata": {},
     "output_type": "execute_result"
    }
   ],
   "source": [
    "[i*i for i in range(0,10) if (i*i) % 3 == 0]"
   ]
  },
  {
   "cell_type": "code",
   "execution_count": 18,
   "id": "62026331",
   "metadata": {},
   "outputs": [
    {
     "data": {
      "text/plain": [
       "[[0, 0],\n",
       " [0, 1],\n",
       " [0, 2],\n",
       " [0, 3],\n",
       " [0, 4],\n",
       " [0, 5],\n",
       " [0, 6],\n",
       " [0, 7],\n",
       " [0, 8],\n",
       " [0, 9],\n",
       " [1, 0],\n",
       " [1, 1],\n",
       " [1, 2],\n",
       " [1, 3],\n",
       " [1, 4],\n",
       " [1, 5],\n",
       " [1, 6],\n",
       " [1, 7],\n",
       " [1, 8],\n",
       " [1, 9],\n",
       " [2, 0],\n",
       " [2, 1],\n",
       " [2, 2],\n",
       " [2, 3],\n",
       " [2, 4],\n",
       " [2, 5],\n",
       " [2, 6],\n",
       " [2, 7],\n",
       " [2, 8],\n",
       " [2, 9],\n",
       " [3, 0],\n",
       " [3, 1],\n",
       " [3, 2],\n",
       " [3, 3],\n",
       " [3, 4],\n",
       " [3, 5],\n",
       " [3, 6],\n",
       " [3, 7],\n",
       " [3, 8],\n",
       " [3, 9],\n",
       " [4, 0],\n",
       " [4, 1],\n",
       " [4, 2],\n",
       " [4, 3],\n",
       " [4, 4],\n",
       " [4, 5],\n",
       " [4, 6],\n",
       " [4, 7],\n",
       " [4, 8],\n",
       " [4, 9],\n",
       " [5, 0],\n",
       " [5, 1],\n",
       " [5, 2],\n",
       " [5, 3],\n",
       " [5, 4],\n",
       " [5, 5],\n",
       " [5, 6],\n",
       " [5, 7],\n",
       " [5, 8],\n",
       " [5, 9],\n",
       " [6, 0],\n",
       " [6, 1],\n",
       " [6, 2],\n",
       " [6, 3],\n",
       " [6, 4],\n",
       " [6, 5],\n",
       " [6, 6],\n",
       " [6, 7],\n",
       " [6, 8],\n",
       " [6, 9],\n",
       " [7, 0],\n",
       " [7, 1],\n",
       " [7, 2],\n",
       " [7, 3],\n",
       " [7, 4],\n",
       " [7, 5],\n",
       " [7, 6],\n",
       " [7, 7],\n",
       " [7, 8],\n",
       " [7, 9],\n",
       " [8, 0],\n",
       " [8, 1],\n",
       " [8, 2],\n",
       " [8, 3],\n",
       " [8, 4],\n",
       " [8, 5],\n",
       " [8, 6],\n",
       " [8, 7],\n",
       " [8, 8],\n",
       " [8, 9],\n",
       " [9, 0],\n",
       " [9, 1],\n",
       " [9, 2],\n",
       " [9, 3],\n",
       " [9, 4],\n",
       " [9, 5],\n",
       " [9, 6],\n",
       " [9, 7],\n",
       " [9, 8],\n",
       " [9, 9]]"
      ]
     },
     "execution_count": 18,
     "metadata": {},
     "output_type": "execute_result"
    }
   ],
   "source": [
    "[[x,y] for x in range (0,10) for y in range (0,10)]"
   ]
  },
  {
   "cell_type": "code",
   "execution_count": 20,
   "id": "19c23b58",
   "metadata": {},
   "outputs": [
    {
     "data": {
      "text/plain": [
       "(1, 2, 3)"
      ]
     },
     "execution_count": 20,
     "metadata": {},
     "output_type": "execute_result"
    }
   ],
   "source": [
    "#tuple元组  不可变 reverse 在tuple中不可用\n",
    "my_tuple =(1,2,3)\n",
    "my_tuple"
   ]
  },
  {
   "cell_type": "code",
   "execution_count": 21,
   "id": "9c9fbfdb",
   "metadata": {},
   "outputs": [
    {
     "data": {
      "text/plain": [
       "tuple"
      ]
     },
     "execution_count": 21,
     "metadata": {},
     "output_type": "execute_result"
    }
   ],
   "source": [
    "type(my_tuple)"
   ]
  },
  {
   "cell_type": "code",
   "execution_count": 22,
   "id": "a92fa20a",
   "metadata": {},
   "outputs": [
    {
     "data": {
      "text/plain": [
       "1"
      ]
     },
     "execution_count": 22,
     "metadata": {},
     "output_type": "execute_result"
    }
   ],
   "source": [
    "my_tuple[0]"
   ]
  },
  {
   "cell_type": "code",
   "execution_count": 23,
   "id": "40bb8bbf",
   "metadata": {},
   "outputs": [
    {
     "ename": "TypeError",
     "evalue": "'tuple' object does not support item assignment",
     "output_type": "error",
     "traceback": [
      "\u001b[1;31m---------------------------------------------------------------------------\u001b[0m",
      "\u001b[1;31mTypeError\u001b[0m                                 Traceback (most recent call last)",
      "\u001b[1;32m<ipython-input-23-6c8f820aae36>\u001b[0m in \u001b[0;36m<module>\u001b[1;34m\u001b[0m\n\u001b[1;32m----> 1\u001b[1;33m \u001b[0mmy_tuple\u001b[0m\u001b[1;33m[\u001b[0m\u001b[1;36m0\u001b[0m\u001b[1;33m]\u001b[0m\u001b[1;33m=\u001b[0m\u001b[1;36m10\u001b[0m\u001b[1;33m\u001b[0m\u001b[1;33m\u001b[0m\u001b[0m\n\u001b[0m",
      "\u001b[1;31mTypeError\u001b[0m: 'tuple' object does not support item assignment"
     ]
    }
   ],
   "source": [
    "my_tuple[0]=10"
   ]
  },
  {
   "cell_type": "code",
   "execution_count": 25,
   "id": "6a1d4e53",
   "metadata": {},
   "outputs": [],
   "source": [
    "m=(1)"
   ]
  }
 ],
 "metadata": {
  "kernelspec": {
   "display_name": "Python 3",
   "language": "python",
   "name": "python3"
  },
  "language_info": {
   "codemirror_mode": {
    "name": "ipython",
    "version": 3
   },
   "file_extension": ".py",
   "mimetype": "text/x-python",
   "name": "python",
   "nbconvert_exporter": "python",
   "pygments_lexer": "ipython3",
   "version": "3.8.8"
  }
 },
 "nbformat": 4,
 "nbformat_minor": 5
}
