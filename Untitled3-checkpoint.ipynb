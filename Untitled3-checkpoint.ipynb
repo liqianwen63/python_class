{
 "cells": [
  {
   "cell_type": "code",
   "execution_count": 1,
   "id": "c34fd11d",
   "metadata": {},
   "outputs": [
    {
     "name": "stdout",
     "output_type": "stream",
     "text": [
      "input your name:li\n",
      "90\n"
     ]
    }
   ],
   "source": [
    "names = ['name1','name2','name3']\n",
    "scores = [90,95,88]\n",
    "\n",
    "name=input('input your name:')\n",
    "print(scores[name.index(name)])"
   ]
  },
  {
   "cell_type": "code",
   "execution_count": 2,
   "id": "359c9b67",
   "metadata": {},
   "outputs": [
    {
     "name": "stdout",
     "output_type": "stream",
     "text": [
      "input your name:name3\n",
      "88\n"
     ]
    }
   ],
   "source": [
    "scores = [['name1',90],['name2',95],['name3',88]]\n",
    "\n",
    "name=input('input your name:')\n",
    "for item in scores:\n",
    "    if item[0]==name:\n",
    "        print(item[1])"
   ]
  },
  {
   "cell_type": "code",
   "execution_count": 3,
   "id": "a6cd92f8",
   "metadata": {},
   "outputs": [],
   "source": [
    "scores_d = {'name1':90,'name2':95,'name3':88}#字典{key:value}字典是可变的,根据key来判断ture  or false"
   ]
  },
  {
   "cell_type": "code",
   "execution_count": 4,
   "id": "306fb2a1",
   "metadata": {},
   "outputs": [
    {
     "data": {
      "text/plain": [
       "{'name1': 90, 'name2': 95, 'name3': 88}"
      ]
     },
     "execution_count": 4,
     "metadata": {},
     "output_type": "execute_result"
    }
   ],
   "source": [
    "scores_d"
   ]
  },
  {
   "cell_type": "code",
   "execution_count": 5,
   "id": "91667a91",
   "metadata": {},
   "outputs": [
    {
     "name": "stdout",
     "output_type": "stream",
     "text": [
      "inputyour name:name1\n",
      "90\n"
     ]
    }
   ],
   "source": [
    "name=input('inputyour name:')\n",
    "print(scores_d[name])"
   ]
  },
  {
   "cell_type": "code",
   "execution_count": 6,
   "id": "fd83dbff",
   "metadata": {},
   "outputs": [],
   "source": [
    "scores_d['name4']=60"
   ]
  },
  {
   "cell_type": "code",
   "execution_count": 7,
   "id": "57b3fecc",
   "metadata": {},
   "outputs": [
    {
     "data": {
      "text/plain": [
       "{'name1': 90, 'name2': 95, 'name3': 88, 'name4': 60}"
      ]
     },
     "execution_count": 7,
     "metadata": {},
     "output_type": "execute_result"
    }
   ],
   "source": [
    "scores_d"
   ]
  },
  {
   "cell_type": "code",
   "execution_count": 8,
   "id": "527a4d30",
   "metadata": {},
   "outputs": [],
   "source": [
    "scores_d['albert']=95"
   ]
  },
  {
   "cell_type": "code",
   "execution_count": 9,
   "id": "89d2481e",
   "metadata": {},
   "outputs": [
    {
     "data": {
      "text/plain": [
       "{'name1': 90, 'name2': 95, 'name3': 88, 'name4': 60, 'albert': 95}"
      ]
     },
     "execution_count": 9,
     "metadata": {},
     "output_type": "execute_result"
    }
   ],
   "source": [
    "scores_d"
   ]
  },
  {
   "cell_type": "code",
   "execution_count": 10,
   "id": "54174016",
   "metadata": {},
   "outputs": [
    {
     "ename": "KeyError",
     "evalue": "'test'",
     "output_type": "error",
     "traceback": [
      "\u001b[1;31m---------------------------------------------------------------------------\u001b[0m",
      "\u001b[1;31mKeyError\u001b[0m                                  Traceback (most recent call last)",
      "\u001b[1;32m<ipython-input-10-523e10a4ea6d>\u001b[0m in \u001b[0;36m<module>\u001b[1;34m\u001b[0m\n\u001b[1;32m----> 1\u001b[1;33m \u001b[0mscores_d\u001b[0m\u001b[1;33m[\u001b[0m\u001b[1;34m'test'\u001b[0m\u001b[1;33m]\u001b[0m\u001b[1;33m\u001b[0m\u001b[1;33m\u001b[0m\u001b[0m\n\u001b[0m",
      "\u001b[1;31mKeyError\u001b[0m: 'test'"
     ]
    }
   ],
   "source": [
    "scores_d['test']"
   ]
  },
  {
   "cell_type": "code",
   "execution_count": 11,
   "id": "3bdebfbd",
   "metadata": {},
   "outputs": [
    {
     "data": {
      "text/plain": [
       "False"
      ]
     },
     "execution_count": 11,
     "metadata": {},
     "output_type": "execute_result"
    }
   ],
   "source": [
    "'test'in scores_d"
   ]
  },
  {
   "cell_type": "code",
   "execution_count": 12,
   "id": "8c759dfa",
   "metadata": {},
   "outputs": [
    {
     "data": {
      "text/plain": [
       "True"
      ]
     },
     "execution_count": 12,
     "metadata": {},
     "output_type": "execute_result"
    }
   ],
   "source": [
    "'name1'in scores_d"
   ]
  },
  {
   "cell_type": "code",
   "execution_count": 13,
   "id": "1c065973",
   "metadata": {},
   "outputs": [
    {
     "data": {
      "text/plain": [
       "[['name1', 90], ['name2', 95], ['name3', 88]]"
      ]
     },
     "execution_count": 13,
     "metadata": {},
     "output_type": "execute_result"
    }
   ],
   "source": [
    "scores"
   ]
  },
  {
   "cell_type": "code",
   "execution_count": 15,
   "id": "57788aae",
   "metadata": {},
   "outputs": [],
   "source": [
    "d=dict(scores)"
   ]
  },
  {
   "cell_type": "code",
   "execution_count": 16,
   "id": "ba9852cb",
   "metadata": {},
   "outputs": [
    {
     "data": {
      "text/plain": [
       "{'name1': 90, 'name2': 95, 'name3': 88}"
      ]
     },
     "execution_count": 16,
     "metadata": {},
     "output_type": "execute_result"
    }
   ],
   "source": [
    "d"
   ]
  },
  {
   "cell_type": "code",
   "execution_count": 17,
   "id": "f9a70734",
   "metadata": {},
   "outputs": [],
   "source": [
    "d=dict()"
   ]
  },
  {
   "cell_type": "code",
   "execution_count": 18,
   "id": "f449892b",
   "metadata": {},
   "outputs": [
    {
     "data": {
      "text/plain": [
       "{}"
      ]
     },
     "execution_count": 18,
     "metadata": {},
     "output_type": "execute_result"
    }
   ],
   "source": [
    "d"
   ]
  },
  {
   "cell_type": "code",
   "execution_count": 19,
   "id": "ee2481b8",
   "metadata": {},
   "outputs": [],
   "source": [
    "d1={}.fromkeys(['name','age'])"
   ]
  },
  {
   "cell_type": "code",
   "execution_count": 20,
   "id": "2cc62232",
   "metadata": {},
   "outputs": [
    {
     "data": {
      "text/plain": [
       "{'name': None, 'age': None}"
      ]
     },
     "execution_count": 20,
     "metadata": {},
     "output_type": "execute_result"
    }
   ],
   "source": [
    "d1"
   ]
  },
  {
   "cell_type": "code",
   "execution_count": 21,
   "id": "b1b37388",
   "metadata": {},
   "outputs": [],
   "source": [
    "str='hello,this is a test.'\n",
    "count={}.fromkeys('aeiou',0)"
   ]
  },
  {
   "cell_type": "code",
   "execution_count": 22,
   "id": "6c6d5eb9",
   "metadata": {},
   "outputs": [
    {
     "data": {
      "text/plain": [
       "{'a': 0, 'e': 0, 'i': 0, 'o': 0, 'u': 0}"
      ]
     },
     "execution_count": 22,
     "metadata": {},
     "output_type": "execute_result"
    }
   ],
   "source": [
    "count"
   ]
  },
  {
   "cell_type": "code",
   "execution_count": 24,
   "id": "40990b58",
   "metadata": {},
   "outputs": [
    {
     "name": "stdout",
     "output_type": "stream",
     "text": [
      "{'a': 1, 'e': 2, 'i': 2, 'o': 1, 'u': 0}\n"
     ]
    }
   ],
   "source": [
    "for ch in str:\n",
    "    if ch in count:\n",
    "        count[ch]+=1\n",
    "    \n",
    "print(count)"
   ]
  },
  {
   "cell_type": "code",
   "execution_count": 28,
   "id": "e3569838",
   "metadata": {},
   "outputs": [
    {
     "name": "stdout",
     "output_type": "stream",
     "text": [
      "-1\n"
     ]
    }
   ],
   "source": [
    "print(count.get('h',-1))"
   ]
  },
  {
   "cell_type": "code",
   "execution_count": 32,
   "id": "21111691",
   "metadata": {},
   "outputs": [
    {
     "ename": "SyntaxError",
     "evalue": "cannot assign to function call (<ipython-input-32-5185f4a18193>, line 3)",
     "output_type": "error",
     "traceback": [
      "\u001b[1;36m  File \u001b[1;32m\"<ipython-input-32-5185f4a18193>\"\u001b[1;36m, line \u001b[1;32m3\u001b[0m\n\u001b[1;33m    student('score')=int(input('input a score:'))\u001b[0m\n\u001b[1;37m    ^\u001b[0m\n\u001b[1;31mSyntaxError\u001b[0m\u001b[1;31m:\u001b[0m cannot assign to function call\n"
     ]
    }
   ],
   "source": [
    "student=dict.frpmkeys('name','scores')\n",
    "student['name']=input('input a name:')\n",
    "student('score')=int(input('input a score:'))\n",
    "\n",
    "ptint(f\"name:{studnt['name']},score:{'score']}\")"
   ]
  },
  {
   "cell_type": "code",
   "execution_count": 33,
   "id": "dd564d88",
   "metadata": {},
   "outputs": [
    {
     "name": "stdout",
     "output_type": "stream",
     "text": [
      "input a name:li\n",
      "input a score:68\n",
      "Name:li,Score:68\n"
     ]
    }
   ],
   "source": [
    "student=['',0]\n",
    "student[0]=input('input a name:')\n",
    "student[1]=int(input('input a score:'))\n",
    "\n",
    "print(f\"Name:{student[0]},Score:{student[1]}\")"
   ]
  },
  {
   "cell_type": "code",
   "execution_count": 44,
   "id": "80ba742a",
   "metadata": {},
   "outputs": [
    {
     "name": "stdout",
     "output_type": "stream",
     "text": [
      "input id:63\n",
      "input name:li\n",
      "input physics score:100\n",
      "input math score:90\n",
      "input python score:100\n",
      "{'63': {'name': 'li', 'physics': 100, 'math': 90, 'python': 100}}\n"
     ]
    }
   ],
   "source": [
    "#scores={'id':{'name':'','physics':0,'math':0,'python':0}}\n",
    "\n",
    "#scores['li si']['physics']\n",
    "scores={}\n",
    "for i in range(0,1):\n",
    "    sid=input('input id:')\n",
    "    name=input('input name:')\n",
    "    physics=int(input('input physics score:'))\n",
    "    math=int(input('input math score:'))\n",
    "    python=int(input('input python score:'))\n",
    "    scores[sid]={'name':name,'physics':physics,'math':math,'python':python}\n",
    "    \n",
    "print(scores)"
   ]
  },
  {
   "cell_type": "code",
   "execution_count": 45,
   "id": "6c3ba2ca",
   "metadata": {},
   "outputs": [],
   "source": [
    "import json\n",
    "\n",
    "\n",
    "with open('scores_db.json','w') as f:\n",
    "    json.dump(scores,f)"
   ]
  },
  {
   "cell_type": "code",
   "execution_count": 46,
   "id": "e4a6e029",
   "metadata": {},
   "outputs": [],
   "source": [
    "with open('scores_db.json')as f:\n",
    "        new_scores=json.load(f)"
   ]
  },
  {
   "cell_type": "code",
   "execution_count": 47,
   "id": "1a3995de",
   "metadata": {},
   "outputs": [
    {
     "data": {
      "text/plain": [
       "{'63': {'name': 'li', 'physics': 100, 'math': 90, 'python': 100}}"
      ]
     },
     "execution_count": 47,
     "metadata": {},
     "output_type": "execute_result"
    }
   ],
   "source": [
    "new_scores"
   ]
  },
  {
   "cell_type": "code",
   "execution_count": null,
   "id": "a0c0633a",
   "metadata": {},
   "outputs": [],
   "source": [
    "scores={}\n",
    "for i in range(0,1):\n",
    "    sid=input('input id:')\n",
    "    name=input('input name:')\n",
    "    physics=int(input('input physics score:'))\n",
    "    math=int(input('input math score:'))\n",
    "    python=int(input('input python score:'))\n",
    "    scores[sid]={'name':name,'physics':physics,'math':math,'python':python}\n",
    "    \n",
    "print(scores)"
   ]
  },
  {
   "cell_type": "code",
   "execution_count": 52,
   "id": "7547a836",
   "metadata": {},
   "outputs": [],
   "source": [
    "import random\n",
    "import math\n",
    "\n",
    "def get_random_score():\n",
    "    score=  math.ceil(random.gauss(75,20))\n",
    "    if score>100:score=100\n",
    "    if score<0:score=0\n",
    "    return score\n",
    "    "
   ]
  },
  {
   "cell_type": "code",
   "execution_count": 53,
   "id": "face472e",
   "metadata": {},
   "outputs": [
    {
     "name": "stdout",
     "output_type": "stream",
     "text": [
      "87 74 100 61 100 70 69 60 66 78 54 71 59 91 74 58 100 71 92 54 84 88 100 83 100 50 63 94 74 57 85 89 100 67 65 69 82 88 91 94 53 72 78 100 73 56 81 71 76 91 92 99 78 40 24 67 45 61 100 100 53 41 96 100 61 85 79 48 100 37 75 77 74 93 77 100 62 61 83 79 99 76 74 41 91 96 78 89 74 67 56 79 99 90 87 62 55 100 49 100 "
     ]
    }
   ],
   "source": [
    "for i in range(0,100):\n",
    "    print(get_random_score(),end=' ')"
   ]
  },
  {
   "cell_type": "code",
   "execution_count": 56,
   "id": "421c971f",
   "metadata": {},
   "outputs": [],
   "source": [
    "first_names=['san','si','wu','liu','qi','ba','jiu','shi']\n",
    "last_names=['zhao','qian','sun','li','zhou','wu','zheng','wang','feng','cheng','chu','wei']\n",
    "\n",
    "names=list()\n",
    "names=[first_name+ ' '+last_name for first_name in first_names for last_name in last_names ]"
   ]
  },
  {
   "cell_type": "code",
   "execution_count": 57,
   "id": "6d83490b",
   "metadata": {},
   "outputs": [
    {
     "data": {
      "text/plain": [
       "['san zhao',\n",
       " 'san qian',\n",
       " 'san sun',\n",
       " 'san li',\n",
       " 'san zhou',\n",
       " 'san wu',\n",
       " 'san zheng',\n",
       " 'san wang',\n",
       " 'san feng',\n",
       " 'san cheng',\n",
       " 'san chu',\n",
       " 'san wei',\n",
       " 'si zhao',\n",
       " 'si qian',\n",
       " 'si sun',\n",
       " 'si li',\n",
       " 'si zhou',\n",
       " 'si wu',\n",
       " 'si zheng',\n",
       " 'si wang',\n",
       " 'si feng',\n",
       " 'si cheng',\n",
       " 'si chu',\n",
       " 'si wei',\n",
       " 'wu zhao',\n",
       " 'wu qian',\n",
       " 'wu sun',\n",
       " 'wu li',\n",
       " 'wu zhou',\n",
       " 'wu wu',\n",
       " 'wu zheng',\n",
       " 'wu wang',\n",
       " 'wu feng',\n",
       " 'wu cheng',\n",
       " 'wu chu',\n",
       " 'wu wei',\n",
       " 'liu zhao',\n",
       " 'liu qian',\n",
       " 'liu sun',\n",
       " 'liu li',\n",
       " 'liu zhou',\n",
       " 'liu wu',\n",
       " 'liu zheng',\n",
       " 'liu wang',\n",
       " 'liu feng',\n",
       " 'liu cheng',\n",
       " 'liu chu',\n",
       " 'liu wei',\n",
       " 'qi zhao',\n",
       " 'qi qian',\n",
       " 'qi sun',\n",
       " 'qi li',\n",
       " 'qi zhou',\n",
       " 'qi wu',\n",
       " 'qi zheng',\n",
       " 'qi wang',\n",
       " 'qi feng',\n",
       " 'qi cheng',\n",
       " 'qi chu',\n",
       " 'qi wei',\n",
       " 'ba zhao',\n",
       " 'ba qian',\n",
       " 'ba sun',\n",
       " 'ba li',\n",
       " 'ba zhou',\n",
       " 'ba wu',\n",
       " 'ba zheng',\n",
       " 'ba wang',\n",
       " 'ba feng',\n",
       " 'ba cheng',\n",
       " 'ba chu',\n",
       " 'ba wei',\n",
       " 'jiu zhao',\n",
       " 'jiu qian',\n",
       " 'jiu sun',\n",
       " 'jiu li',\n",
       " 'jiu zhou',\n",
       " 'jiu wu',\n",
       " 'jiu zheng',\n",
       " 'jiu wang',\n",
       " 'jiu feng',\n",
       " 'jiu cheng',\n",
       " 'jiu chu',\n",
       " 'jiu wei',\n",
       " 'shi zhao',\n",
       " 'shi qian',\n",
       " 'shi sun',\n",
       " 'shi li',\n",
       " 'shi zhou',\n",
       " 'shi wu',\n",
       " 'shi zheng',\n",
       " 'shi wang',\n",
       " 'shi feng',\n",
       " 'shi cheng',\n",
       " 'shi chu',\n",
       " 'shi wei']"
      ]
     },
     "execution_count": 57,
     "metadata": {},
     "output_type": "execute_result"
    }
   ],
   "source": [
    "names"
   ]
  },
  {
   "cell_type": "code",
   "execution_count": 54,
   "id": "d2fd4715",
   "metadata": {},
   "outputs": [
    {
     "data": {
      "text/plain": [
       "[1, 4, 9, 16, 25, 36, 49, 64, 81]"
      ]
     },
     "execution_count": 54,
     "metadata": {},
     "output_type": "execute_result"
    }
   ],
   "source": [
    "[x*x for x in range(1,10)]#"
   ]
  },
  {
   "cell_type": "code",
   "execution_count": 58,
   "id": "e8f4f6cb",
   "metadata": {},
   "outputs": [
    {
     "data": {
      "text/plain": [
       "96"
      ]
     },
     "execution_count": 58,
     "metadata": {},
     "output_type": "execute_result"
    }
   ],
   "source": [
    "len(names)"
   ]
  },
  {
   "cell_type": "code",
   "execution_count": 64,
   "id": "d030e768",
   "metadata": {},
   "outputs": [],
   "source": [
    "import math\n",
    "scores={}\n",
    "for i in range(0,96):\n",
    "    sid='2021'+repr(i) \n",
    "    name=names[i] \n",
    "    physics=get_random_score()\n",
    "    math_score=get_random_score()\n",
    "    python=get_random_score()\n",
    "    scores[sid]={'name':name,'physics':physics,'math':math,'python':python}\n"
   ]
  },
  {
   "cell_type": "code",
   "execution_count": 73,
   "id": "943d226b",
   "metadata": {},
   "outputs": [
    {
     "ename": "TypeError",
     "evalue": "Object of type module is not JSON serializable",
     "output_type": "error",
     "traceback": [
      "\u001b[1;31m---------------------------------------------------------------------------\u001b[0m",
      "\u001b[1;31mTypeError\u001b[0m                                 Traceback (most recent call last)",
      "\u001b[1;32m<ipython-input-73-10769d3341c4>\u001b[0m in \u001b[0;36m<module>\u001b[1;34m\u001b[0m\n\u001b[0;32m      2\u001b[0m \u001b[1;33m\u001b[0m\u001b[0m\n\u001b[0;32m      3\u001b[0m \u001b[1;32mwith\u001b[0m \u001b[0mopen\u001b[0m\u001b[1;33m(\u001b[0m\u001b[1;34m'scores_db,json'\u001b[0m\u001b[1;33m,\u001b[0m\u001b[1;34m'w'\u001b[0m\u001b[1;33m)\u001b[0m \u001b[1;32mas\u001b[0m \u001b[0mf\u001b[0m\u001b[1;33m:\u001b[0m\u001b[1;33m\u001b[0m\u001b[1;33m\u001b[0m\u001b[0m\n\u001b[1;32m----> 4\u001b[1;33m     \u001b[0mjson\u001b[0m\u001b[1;33m.\u001b[0m\u001b[0mdump\u001b[0m\u001b[1;33m(\u001b[0m\u001b[0mscores\u001b[0m\u001b[1;33m,\u001b[0m\u001b[0mf\u001b[0m\u001b[1;33m)\u001b[0m\u001b[1;33m\u001b[0m\u001b[1;33m\u001b[0m\u001b[0m\n\u001b[0m",
      "\u001b[1;32mD:\\anaconda\\lib\\json\\__init__.py\u001b[0m in \u001b[0;36mdump\u001b[1;34m(obj, fp, skipkeys, ensure_ascii, check_circular, allow_nan, cls, indent, separators, default, sort_keys, **kw)\u001b[0m\n\u001b[0;32m    177\u001b[0m     \u001b[1;31m# could accelerate with writelines in some versions of Python, at\u001b[0m\u001b[1;33m\u001b[0m\u001b[1;33m\u001b[0m\u001b[1;33m\u001b[0m\u001b[0m\n\u001b[0;32m    178\u001b[0m     \u001b[1;31m# a debuggability cost\u001b[0m\u001b[1;33m\u001b[0m\u001b[1;33m\u001b[0m\u001b[1;33m\u001b[0m\u001b[0m\n\u001b[1;32m--> 179\u001b[1;33m     \u001b[1;32mfor\u001b[0m \u001b[0mchunk\u001b[0m \u001b[1;32min\u001b[0m \u001b[0miterable\u001b[0m\u001b[1;33m:\u001b[0m\u001b[1;33m\u001b[0m\u001b[1;33m\u001b[0m\u001b[0m\n\u001b[0m\u001b[0;32m    180\u001b[0m         \u001b[0mfp\u001b[0m\u001b[1;33m.\u001b[0m\u001b[0mwrite\u001b[0m\u001b[1;33m(\u001b[0m\u001b[0mchunk\u001b[0m\u001b[1;33m)\u001b[0m\u001b[1;33m\u001b[0m\u001b[1;33m\u001b[0m\u001b[0m\n\u001b[0;32m    181\u001b[0m \u001b[1;33m\u001b[0m\u001b[0m\n",
      "\u001b[1;32mD:\\anaconda\\lib\\json\\encoder.py\u001b[0m in \u001b[0;36m_iterencode\u001b[1;34m(o, _current_indent_level)\u001b[0m\n\u001b[0;32m    429\u001b[0m             \u001b[1;32myield\u001b[0m \u001b[1;32mfrom\u001b[0m \u001b[0m_iterencode_list\u001b[0m\u001b[1;33m(\u001b[0m\u001b[0mo\u001b[0m\u001b[1;33m,\u001b[0m \u001b[0m_current_indent_level\u001b[0m\u001b[1;33m)\u001b[0m\u001b[1;33m\u001b[0m\u001b[1;33m\u001b[0m\u001b[0m\n\u001b[0;32m    430\u001b[0m         \u001b[1;32melif\u001b[0m \u001b[0misinstance\u001b[0m\u001b[1;33m(\u001b[0m\u001b[0mo\u001b[0m\u001b[1;33m,\u001b[0m \u001b[0mdict\u001b[0m\u001b[1;33m)\u001b[0m\u001b[1;33m:\u001b[0m\u001b[1;33m\u001b[0m\u001b[1;33m\u001b[0m\u001b[0m\n\u001b[1;32m--> 431\u001b[1;33m             \u001b[1;32myield\u001b[0m \u001b[1;32mfrom\u001b[0m \u001b[0m_iterencode_dict\u001b[0m\u001b[1;33m(\u001b[0m\u001b[0mo\u001b[0m\u001b[1;33m,\u001b[0m \u001b[0m_current_indent_level\u001b[0m\u001b[1;33m)\u001b[0m\u001b[1;33m\u001b[0m\u001b[1;33m\u001b[0m\u001b[0m\n\u001b[0m\u001b[0;32m    432\u001b[0m         \u001b[1;32melse\u001b[0m\u001b[1;33m:\u001b[0m\u001b[1;33m\u001b[0m\u001b[1;33m\u001b[0m\u001b[0m\n\u001b[0;32m    433\u001b[0m             \u001b[1;32mif\u001b[0m \u001b[0mmarkers\u001b[0m \u001b[1;32mis\u001b[0m \u001b[1;32mnot\u001b[0m \u001b[1;32mNone\u001b[0m\u001b[1;33m:\u001b[0m\u001b[1;33m\u001b[0m\u001b[1;33m\u001b[0m\u001b[0m\n",
      "\u001b[1;32mD:\\anaconda\\lib\\json\\encoder.py\u001b[0m in \u001b[0;36m_iterencode_dict\u001b[1;34m(dct, _current_indent_level)\u001b[0m\n\u001b[0;32m    403\u001b[0m                 \u001b[1;32melse\u001b[0m\u001b[1;33m:\u001b[0m\u001b[1;33m\u001b[0m\u001b[1;33m\u001b[0m\u001b[0m\n\u001b[0;32m    404\u001b[0m                     \u001b[0mchunks\u001b[0m \u001b[1;33m=\u001b[0m \u001b[0m_iterencode\u001b[0m\u001b[1;33m(\u001b[0m\u001b[0mvalue\u001b[0m\u001b[1;33m,\u001b[0m \u001b[0m_current_indent_level\u001b[0m\u001b[1;33m)\u001b[0m\u001b[1;33m\u001b[0m\u001b[1;33m\u001b[0m\u001b[0m\n\u001b[1;32m--> 405\u001b[1;33m                 \u001b[1;32myield\u001b[0m \u001b[1;32mfrom\u001b[0m \u001b[0mchunks\u001b[0m\u001b[1;33m\u001b[0m\u001b[1;33m\u001b[0m\u001b[0m\n\u001b[0m\u001b[0;32m    406\u001b[0m         \u001b[1;32mif\u001b[0m \u001b[0mnewline_indent\u001b[0m \u001b[1;32mis\u001b[0m \u001b[1;32mnot\u001b[0m \u001b[1;32mNone\u001b[0m\u001b[1;33m:\u001b[0m\u001b[1;33m\u001b[0m\u001b[1;33m\u001b[0m\u001b[0m\n\u001b[0;32m    407\u001b[0m             \u001b[0m_current_indent_level\u001b[0m \u001b[1;33m-=\u001b[0m \u001b[1;36m1\u001b[0m\u001b[1;33m\u001b[0m\u001b[1;33m\u001b[0m\u001b[0m\n",
      "\u001b[1;32mD:\\anaconda\\lib\\json\\encoder.py\u001b[0m in \u001b[0;36m_iterencode_dict\u001b[1;34m(dct, _current_indent_level)\u001b[0m\n\u001b[0;32m    403\u001b[0m                 \u001b[1;32melse\u001b[0m\u001b[1;33m:\u001b[0m\u001b[1;33m\u001b[0m\u001b[1;33m\u001b[0m\u001b[0m\n\u001b[0;32m    404\u001b[0m                     \u001b[0mchunks\u001b[0m \u001b[1;33m=\u001b[0m \u001b[0m_iterencode\u001b[0m\u001b[1;33m(\u001b[0m\u001b[0mvalue\u001b[0m\u001b[1;33m,\u001b[0m \u001b[0m_current_indent_level\u001b[0m\u001b[1;33m)\u001b[0m\u001b[1;33m\u001b[0m\u001b[1;33m\u001b[0m\u001b[0m\n\u001b[1;32m--> 405\u001b[1;33m                 \u001b[1;32myield\u001b[0m \u001b[1;32mfrom\u001b[0m \u001b[0mchunks\u001b[0m\u001b[1;33m\u001b[0m\u001b[1;33m\u001b[0m\u001b[0m\n\u001b[0m\u001b[0;32m    406\u001b[0m         \u001b[1;32mif\u001b[0m \u001b[0mnewline_indent\u001b[0m \u001b[1;32mis\u001b[0m \u001b[1;32mnot\u001b[0m \u001b[1;32mNone\u001b[0m\u001b[1;33m:\u001b[0m\u001b[1;33m\u001b[0m\u001b[1;33m\u001b[0m\u001b[0m\n\u001b[0;32m    407\u001b[0m             \u001b[0m_current_indent_level\u001b[0m \u001b[1;33m-=\u001b[0m \u001b[1;36m1\u001b[0m\u001b[1;33m\u001b[0m\u001b[1;33m\u001b[0m\u001b[0m\n",
      "\u001b[1;32mD:\\anaconda\\lib\\json\\encoder.py\u001b[0m in \u001b[0;36m_iterencode\u001b[1;34m(o, _current_indent_level)\u001b[0m\n\u001b[0;32m    436\u001b[0m                     \u001b[1;32mraise\u001b[0m \u001b[0mValueError\u001b[0m\u001b[1;33m(\u001b[0m\u001b[1;34m\"Circular reference detected\"\u001b[0m\u001b[1;33m)\u001b[0m\u001b[1;33m\u001b[0m\u001b[1;33m\u001b[0m\u001b[0m\n\u001b[0;32m    437\u001b[0m                 \u001b[0mmarkers\u001b[0m\u001b[1;33m[\u001b[0m\u001b[0mmarkerid\u001b[0m\u001b[1;33m]\u001b[0m \u001b[1;33m=\u001b[0m \u001b[0mo\u001b[0m\u001b[1;33m\u001b[0m\u001b[1;33m\u001b[0m\u001b[0m\n\u001b[1;32m--> 438\u001b[1;33m             \u001b[0mo\u001b[0m \u001b[1;33m=\u001b[0m \u001b[0m_default\u001b[0m\u001b[1;33m(\u001b[0m\u001b[0mo\u001b[0m\u001b[1;33m)\u001b[0m\u001b[1;33m\u001b[0m\u001b[1;33m\u001b[0m\u001b[0m\n\u001b[0m\u001b[0;32m    439\u001b[0m             \u001b[1;32myield\u001b[0m \u001b[1;32mfrom\u001b[0m \u001b[0m_iterencode\u001b[0m\u001b[1;33m(\u001b[0m\u001b[0mo\u001b[0m\u001b[1;33m,\u001b[0m \u001b[0m_current_indent_level\u001b[0m\u001b[1;33m)\u001b[0m\u001b[1;33m\u001b[0m\u001b[1;33m\u001b[0m\u001b[0m\n\u001b[0;32m    440\u001b[0m             \u001b[1;32mif\u001b[0m \u001b[0mmarkers\u001b[0m \u001b[1;32mis\u001b[0m \u001b[1;32mnot\u001b[0m \u001b[1;32mNone\u001b[0m\u001b[1;33m:\u001b[0m\u001b[1;33m\u001b[0m\u001b[1;33m\u001b[0m\u001b[0m\n",
      "\u001b[1;32mD:\\anaconda\\lib\\json\\encoder.py\u001b[0m in \u001b[0;36mdefault\u001b[1;34m(self, o)\u001b[0m\n\u001b[0;32m    177\u001b[0m \u001b[1;33m\u001b[0m\u001b[0m\n\u001b[0;32m    178\u001b[0m         \"\"\"\n\u001b[1;32m--> 179\u001b[1;33m         raise TypeError(f'Object of type {o.__class__.__name__} '\n\u001b[0m\u001b[0;32m    180\u001b[0m                         f'is not JSON serializable')\n\u001b[0;32m    181\u001b[0m \u001b[1;33m\u001b[0m\u001b[0m\n",
      "\u001b[1;31mTypeError\u001b[0m: Object of type module is not JSON serializable"
     ]
    }
   ],
   "source": [
    "import json\n",
    "\n",
    "with open('scores_db,json','w') as f:\n",
    "    json.dump(scores,f)"
   ]
  },
  {
   "cell_type": "code",
   "execution_count": 67,
   "id": "67dcd02d",
   "metadata": {},
   "outputs": [
    {
     "name": "stdout",
     "output_type": "stream",
     "text": [
      "{'20210': {'math': <module 'math' (built-in)>,\n",
      "           'name': 'san zhao',\n",
      "           'physics': 88,\n",
      "           'python': 73},\n",
      " '20211': {'math': <module 'math' (built-in)>,\n",
      "           'name': 'san qian',\n",
      "           'physics': 73,\n",
      "           'python': 75},\n",
      " '202110': {'math': <module 'math' (built-in)>,\n",
      "            'name': 'san chu',\n",
      "            'physics': 100,\n",
      "            'python': 35},\n",
      " '202111': {'math': <module 'math' (built-in)>,\n",
      "            'name': 'san wei',\n",
      "            'physics': 59,\n",
      "            'python': 56},\n",
      " '202112': {'math': <module 'math' (built-in)>,\n",
      "            'name': 'si zhao',\n",
      "            'physics': 100,\n",
      "            'python': 100},\n",
      " '202113': {'math': <module 'math' (built-in)>,\n",
      "            'name': 'si qian',\n",
      "            'physics': 84,\n",
      "            'python': 100},\n",
      " '202114': {'math': <module 'math' (built-in)>,\n",
      "            'name': 'si sun',\n",
      "            'physics': 99,\n",
      "            'python': 45},\n",
      " '202115': {'math': <module 'math' (built-in)>,\n",
      "            'name': 'si li',\n",
      "            'physics': 77,\n",
      "            'python': 85},\n",
      " '202116': {'math': <module 'math' (built-in)>,\n",
      "            'name': 'si zhou',\n",
      "            'physics': 83,\n",
      "            'python': 58},\n",
      " '202117': {'math': <module 'math' (built-in)>,\n",
      "            'name': 'si wu',\n",
      "            'physics': 100,\n",
      "            'python': 70},\n",
      " '202118': {'math': <module 'math' (built-in)>,\n",
      "            'name': 'si zheng',\n",
      "            'physics': 85,\n",
      "            'python': 92},\n",
      " '202119': {'math': <module 'math' (built-in)>,\n",
      "            'name': 'si wang',\n",
      "            'physics': 80,\n",
      "            'python': 87},\n",
      " '20212': {'math': <module 'math' (built-in)>,\n",
      "           'name': 'san sun',\n",
      "           'physics': 74,\n",
      "           'python': 100},\n",
      " '202120': {'math': <module 'math' (built-in)>,\n",
      "            'name': 'si feng',\n",
      "            'physics': 50,\n",
      "            'python': 90},\n",
      " '202121': {'math': <module 'math' (built-in)>,\n",
      "            'name': 'si cheng',\n",
      "            'physics': 59,\n",
      "            'python': 74},\n",
      " '202122': {'math': <module 'math' (built-in)>,\n",
      "            'name': 'si chu',\n",
      "            'physics': 88,\n",
      "            'python': 55},\n",
      " '202123': {'math': <module 'math' (built-in)>,\n",
      "            'name': 'si wei',\n",
      "            'physics': 69,\n",
      "            'python': 81},\n",
      " '202124': {'math': <module 'math' (built-in)>,\n",
      "            'name': 'wu zhao',\n",
      "            'physics': 78,\n",
      "            'python': 79},\n",
      " '202125': {'math': <module 'math' (built-in)>,\n",
      "            'name': 'wu qian',\n",
      "            'physics': 72,\n",
      "            'python': 67},\n",
      " '202126': {'math': <module 'math' (built-in)>,\n",
      "            'name': 'wu sun',\n",
      "            'physics': 58,\n",
      "            'python': 61},\n",
      " '202127': {'math': <module 'math' (built-in)>,\n",
      "            'name': 'wu li',\n",
      "            'physics': 72,\n",
      "            'python': 59},\n",
      " '202128': {'math': <module 'math' (built-in)>,\n",
      "            'name': 'wu zhou',\n",
      "            'physics': 69,\n",
      "            'python': 59},\n",
      " '202129': {'math': <module 'math' (built-in)>,\n",
      "            'name': 'wu wu',\n",
      "            'physics': 77,\n",
      "            'python': 71},\n",
      " '20213': {'math': <module 'math' (built-in)>,\n",
      "           'name': 'san li',\n",
      "           'physics': 89,\n",
      "           'python': 83},\n",
      " '202130': {'math': <module 'math' (built-in)>,\n",
      "            'name': 'wu zheng',\n",
      "            'physics': 84,\n",
      "            'python': 54},\n",
      " '202131': {'math': <module 'math' (built-in)>,\n",
      "            'name': 'wu wang',\n",
      "            'physics': 100,\n",
      "            'python': 52},\n",
      " '202132': {'math': <module 'math' (built-in)>,\n",
      "            'name': 'wu feng',\n",
      "            'physics': 66,\n",
      "            'python': 100},\n",
      " '202133': {'math': <module 'math' (built-in)>,\n",
      "            'name': 'wu cheng',\n",
      "            'physics': 83,\n",
      "            'python': 25},\n",
      " '202134': {'math': <module 'math' (built-in)>,\n",
      "            'name': 'wu chu',\n",
      "            'physics': 54,\n",
      "            'python': 54},\n",
      " '202135': {'math': <module 'math' (built-in)>,\n",
      "            'name': 'wu wei',\n",
      "            'physics': 57,\n",
      "            'python': 78},\n",
      " '202136': {'math': <module 'math' (built-in)>,\n",
      "            'name': 'liu zhao',\n",
      "            'physics': 94,\n",
      "            'python': 100},\n",
      " '202137': {'math': <module 'math' (built-in)>,\n",
      "            'name': 'liu qian',\n",
      "            'physics': 100,\n",
      "            'python': 100},\n",
      " '202138': {'math': <module 'math' (built-in)>,\n",
      "            'name': 'liu sun',\n",
      "            'physics': 49,\n",
      "            'python': 41},\n",
      " '202139': {'math': <module 'math' (built-in)>,\n",
      "            'name': 'liu li',\n",
      "            'physics': 68,\n",
      "            'python': 58},\n",
      " '20214': {'math': <module 'math' (built-in)>,\n",
      "           'name': 'san zhou',\n",
      "           'physics': 90,\n",
      "           'python': 78},\n",
      " '202140': {'math': <module 'math' (built-in)>,\n",
      "            'name': 'liu zhou',\n",
      "            'physics': 74,\n",
      "            'python': 83},\n",
      " '202141': {'math': <module 'math' (built-in)>,\n",
      "            'name': 'liu wu',\n",
      "            'physics': 82,\n",
      "            'python': 100},\n",
      " '202142': {'math': <module 'math' (built-in)>,\n",
      "            'name': 'liu zheng',\n",
      "            'physics': 100,\n",
      "            'python': 63},\n",
      " '202143': {'math': <module 'math' (built-in)>,\n",
      "            'name': 'liu wang',\n",
      "            'physics': 62,\n",
      "            'python': 77},\n",
      " '202144': {'math': <module 'math' (built-in)>,\n",
      "            'name': 'liu feng',\n",
      "            'physics': 73,\n",
      "            'python': 57},\n",
      " '202145': {'math': <module 'math' (built-in)>,\n",
      "            'name': 'liu cheng',\n",
      "            'physics': 49,\n",
      "            'python': 74},\n",
      " '202146': {'math': <module 'math' (built-in)>,\n",
      "            'name': 'liu chu',\n",
      "            'physics': 76,\n",
      "            'python': 62},\n",
      " '202147': {'math': <module 'math' (built-in)>,\n",
      "            'name': 'liu wei',\n",
      "            'physics': 100,\n",
      "            'python': 67},\n",
      " '202148': {'math': <module 'math' (built-in)>,\n",
      "            'name': 'qi zhao',\n",
      "            'physics': 79,\n",
      "            'python': 74},\n",
      " '202149': {'math': <module 'math' (built-in)>,\n",
      "            'name': 'qi qian',\n",
      "            'physics': 100,\n",
      "            'python': 75},\n",
      " '20215': {'math': <module 'math' (built-in)>,\n",
      "           'name': 'san wu',\n",
      "           'physics': 20,\n",
      "           'python': 32},\n",
      " '202150': {'math': <module 'math' (built-in)>,\n",
      "            'name': 'qi sun',\n",
      "            'physics': 100,\n",
      "            'python': 71},\n",
      " '202151': {'math': <module 'math' (built-in)>,\n",
      "            'name': 'qi li',\n",
      "            'physics': 83,\n",
      "            'python': 59},\n",
      " '202152': {'math': <module 'math' (built-in)>,\n",
      "            'name': 'qi zhou',\n",
      "            'physics': 83,\n",
      "            'python': 100},\n",
      " '202153': {'math': <module 'math' (built-in)>,\n",
      "            'name': 'qi wu',\n",
      "            'physics': 45,\n",
      "            'python': 61},\n",
      " '202154': {'math': <module 'math' (built-in)>,\n",
      "            'name': 'qi zheng',\n",
      "            'physics': 93,\n",
      "            'python': 89},\n",
      " '202155': {'math': <module 'math' (built-in)>,\n",
      "            'name': 'qi wang',\n",
      "            'physics': 81,\n",
      "            'python': 100},\n",
      " '202156': {'math': <module 'math' (built-in)>,\n",
      "            'name': 'qi feng',\n",
      "            'physics': 82,\n",
      "            'python': 69},\n",
      " '202157': {'math': <module 'math' (built-in)>,\n",
      "            'name': 'qi cheng',\n",
      "            'physics': 86,\n",
      "            'python': 42},\n",
      " '202158': {'math': <module 'math' (built-in)>,\n",
      "            'name': 'qi chu',\n",
      "            'physics': 59,\n",
      "            'python': 48},\n",
      " '202159': {'math': <module 'math' (built-in)>,\n",
      "            'name': 'qi wei',\n",
      "            'physics': 59,\n",
      "            'python': 92},\n",
      " '20216': {'math': <module 'math' (built-in)>,\n",
      "           'name': 'san zheng',\n",
      "           'physics': 77,\n",
      "           'python': 67},\n",
      " '202160': {'math': <module 'math' (built-in)>,\n",
      "            'name': 'ba zhao',\n",
      "            'physics': 84,\n",
      "            'python': 66},\n",
      " '202161': {'math': <module 'math' (built-in)>,\n",
      "            'name': 'ba qian',\n",
      "            'physics': 83,\n",
      "            'python': 51},\n",
      " '202162': {'math': <module 'math' (built-in)>,\n",
      "            'name': 'ba sun',\n",
      "            'physics': 78,\n",
      "            'python': 61},\n",
      " '202163': {'math': <module 'math' (built-in)>,\n",
      "            'name': 'ba li',\n",
      "            'physics': 84,\n",
      "            'python': 89},\n",
      " '202164': {'math': <module 'math' (built-in)>,\n",
      "            'name': 'ba zhou',\n",
      "            'physics': 84,\n",
      "            'python': 88},\n",
      " '202165': {'math': <module 'math' (built-in)>,\n",
      "            'name': 'ba wu',\n",
      "            'physics': 61,\n",
      "            'python': 64},\n",
      " '202166': {'math': <module 'math' (built-in)>,\n",
      "            'name': 'ba zheng',\n",
      "            'physics': 93,\n",
      "            'python': 78},\n",
      " '202167': {'math': <module 'math' (built-in)>,\n",
      "            'name': 'ba wang',\n",
      "            'physics': 60,\n",
      "            'python': 52},\n",
      " '202168': {'math': <module 'math' (built-in)>,\n",
      "            'name': 'ba feng',\n",
      "            'physics': 85,\n",
      "            'python': 45},\n",
      " '202169': {'math': <module 'math' (built-in)>,\n",
      "            'name': 'ba cheng',\n",
      "            'physics': 64,\n",
      "            'python': 66},\n",
      " '20217': {'math': <module 'math' (built-in)>,\n",
      "           'name': 'san wang',\n",
      "           'physics': 100,\n",
      "           'python': 100},\n",
      " '202170': {'math': <module 'math' (built-in)>,\n",
      "            'name': 'ba chu',\n",
      "            'physics': 75,\n",
      "            'python': 66},\n",
      " '202171': {'math': <module 'math' (built-in)>,\n",
      "            'name': 'ba wei',\n",
      "            'physics': 62,\n",
      "            'python': 95},\n",
      " '202172': {'math': <module 'math' (built-in)>,\n",
      "            'name': 'jiu zhao',\n",
      "            'physics': 82,\n",
      "            'python': 76},\n",
      " '202173': {'math': <module 'math' (built-in)>,\n",
      "            'name': 'jiu qian',\n",
      "            'physics': 70,\n",
      "            'python': 75},\n",
      " '202174': {'math': <module 'math' (built-in)>,\n",
      "            'name': 'jiu sun',\n",
      "            'physics': 96,\n",
      "            'python': 53},\n",
      " '202175': {'math': <module 'math' (built-in)>,\n",
      "            'name': 'jiu li',\n",
      "            'physics': 100,\n",
      "            'python': 46},\n",
      " '202176': {'math': <module 'math' (built-in)>,\n",
      "            'name': 'jiu zhou',\n",
      "            'physics': 75,\n",
      "            'python': 50},\n",
      " '202177': {'math': <module 'math' (built-in)>,\n",
      "            'name': 'jiu wu',\n",
      "            'physics': 62,\n",
      "            'python': 60},\n",
      " '202178': {'math': <module 'math' (built-in)>,\n",
      "            'name': 'jiu zheng',\n",
      "            'physics': 35,\n",
      "            'python': 74},\n",
      " '202179': {'math': <module 'math' (built-in)>,\n",
      "            'name': 'jiu wang',\n",
      "            'physics': 77,\n",
      "            'python': 73},\n",
      " '20218': {'math': <module 'math' (built-in)>,\n",
      "           'name': 'san feng',\n",
      "           'physics': 87,\n",
      "           'python': 52},\n",
      " '202180': {'math': <module 'math' (built-in)>,\n",
      "            'name': 'jiu feng',\n",
      "            'physics': 73,\n",
      "            'python': 96},\n",
      " '202181': {'math': <module 'math' (built-in)>,\n",
      "            'name': 'jiu cheng',\n",
      "            'physics': 52,\n",
      "            'python': 87},\n",
      " '202182': {'math': <module 'math' (built-in)>,\n",
      "            'name': 'jiu chu',\n",
      "            'physics': 72,\n",
      "            'python': 53},\n",
      " '202183': {'math': <module 'math' (built-in)>,\n",
      "            'name': 'jiu wei',\n",
      "            'physics': 70,\n",
      "            'python': 88},\n",
      " '202184': {'math': <module 'math' (built-in)>,\n",
      "            'name': 'shi zhao',\n",
      "            'physics': 100,\n",
      "            'python': 63},\n",
      " '202185': {'math': <module 'math' (built-in)>,\n",
      "            'name': 'shi qian',\n",
      "            'physics': 100,\n",
      "            'python': 79},\n",
      " '202186': {'math': <module 'math' (built-in)>,\n",
      "            'name': 'shi sun',\n",
      "            'physics': 93,\n",
      "            'python': 83},\n",
      " '202187': {'math': <module 'math' (built-in)>,\n",
      "            'name': 'shi li',\n",
      "            'physics': 74,\n",
      "            'python': 65},\n",
      " '202188': {'math': <module 'math' (built-in)>,\n",
      "            'name': 'shi zhou',\n",
      "            'physics': 49,\n",
      "            'python': 67},\n",
      " '202189': {'math': <module 'math' (built-in)>,\n",
      "            'name': 'shi wu',\n",
      "            'physics': 66,\n",
      "            'python': 43},\n",
      " '20219': {'math': <module 'math' (built-in)>,\n",
      "           'name': 'san cheng',\n",
      "           'physics': 90,\n",
      "           'python': 66},\n",
      " '202190': {'math': <module 'math' (built-in)>,\n",
      "            'name': 'shi zheng',\n",
      "            'physics': 73,\n",
      "            'python': 71},\n",
      " '202191': {'math': <module 'math' (built-in)>,\n",
      "            'name': 'shi wang',\n",
      "            'physics': 67,\n",
      "            'python': 78},\n",
      " '202192': {'math': <module 'math' (built-in)>,\n",
      "            'name': 'shi feng',\n",
      "            'physics': 48,\n",
      "            'python': 65},\n",
      " '202193': {'math': <module 'math' (built-in)>,\n",
      "            'name': 'shi cheng',\n",
      "            'physics': 71,\n",
      "            'python': 100},\n",
      " '202194': {'math': <module 'math' (built-in)>,\n",
      "            'name': 'shi chu',\n",
      "            'physics': 77,\n",
      "            'python': 97},\n",
      " '202195': {'math': <module 'math' (built-in)>,\n",
      "            'name': 'shi wei',\n",
      "            'physics': 80,\n",
      "            'python': 44}}\n"
     ]
    }
   ],
   "source": [
    "import pprint\n",
    "pprint.pprint(scores)"
   ]
  },
  {
   "cell_type": "code",
   "execution_count": 77,
   "id": "427b3223",
   "metadata": {},
   "outputs": [
    {
     "name": "stdout",
     "output_type": "stream",
     "text": [
      "input a name:san zhou\n",
      "Id:20214 Name:san zhou Physics:90 Math:<module 'math' (built-in)> Phython:78\n"
     ]
    }
   ],
   "source": [
    "name=input('input a name:')\n",
    "\n",
    "for item in scores:\n",
    "    if scores[item]['name']==name:\n",
    "        print(f\"Id:{item} Name:{name} Physics:{scores[item]['physics']} Math:{scores[item]['math']} Phython:{scores[item]['python']}\")"
   ]
  },
  {
   "cell_type": "code",
   "execution_count": 79,
   "id": "8a18ccbc",
   "metadata": {},
   "outputs": [
    {
     "name": "stdout",
     "output_type": "stream",
     "text": [
      "input a name:san zhou\n",
      "Id:20214 Name:san zhou Physics:90 Math:<module 'math' (built-in)> Phython:78\n"
     ]
    }
   ],
   "source": [
    "name=input('input a name:')\n",
    "\n",
    "for key,value in scores.items():\n",
    "    if value['name']==name:\n",
    "        print(f\"Id:{key} Name:{name} Physics:{value['physics']} Math:{value['math']} Phython:{value['python']}\")"
   ]
  },
  {
   "cell_type": "code",
   "execution_count": 80,
   "id": "1adac3f8",
   "metadata": {},
   "outputs": [],
   "source": [
    "name_to_id={}\n",
    "\n",
    "for key,value in scores.items():\n",
    "        name_to_id[value['name']]=key"
   ]
  },
  {
   "cell_type": "code",
   "execution_count": 81,
   "id": "8ade40da",
   "metadata": {},
   "outputs": [
    {
     "data": {
      "text/plain": [
       "{'san zhao': '20210',\n",
       " 'san qian': '20211',\n",
       " 'san sun': '20212',\n",
       " 'san li': '20213',\n",
       " 'san zhou': '20214',\n",
       " 'san wu': '20215',\n",
       " 'san zheng': '20216',\n",
       " 'san wang': '20217',\n",
       " 'san feng': '20218',\n",
       " 'san cheng': '20219',\n",
       " 'san chu': '202110',\n",
       " 'san wei': '202111',\n",
       " 'si zhao': '202112',\n",
       " 'si qian': '202113',\n",
       " 'si sun': '202114',\n",
       " 'si li': '202115',\n",
       " 'si zhou': '202116',\n",
       " 'si wu': '202117',\n",
       " 'si zheng': '202118',\n",
       " 'si wang': '202119',\n",
       " 'si feng': '202120',\n",
       " 'si cheng': '202121',\n",
       " 'si chu': '202122',\n",
       " 'si wei': '202123',\n",
       " 'wu zhao': '202124',\n",
       " 'wu qian': '202125',\n",
       " 'wu sun': '202126',\n",
       " 'wu li': '202127',\n",
       " 'wu zhou': '202128',\n",
       " 'wu wu': '202129',\n",
       " 'wu zheng': '202130',\n",
       " 'wu wang': '202131',\n",
       " 'wu feng': '202132',\n",
       " 'wu cheng': '202133',\n",
       " 'wu chu': '202134',\n",
       " 'wu wei': '202135',\n",
       " 'liu zhao': '202136',\n",
       " 'liu qian': '202137',\n",
       " 'liu sun': '202138',\n",
       " 'liu li': '202139',\n",
       " 'liu zhou': '202140',\n",
       " 'liu wu': '202141',\n",
       " 'liu zheng': '202142',\n",
       " 'liu wang': '202143',\n",
       " 'liu feng': '202144',\n",
       " 'liu cheng': '202145',\n",
       " 'liu chu': '202146',\n",
       " 'liu wei': '202147',\n",
       " 'qi zhao': '202148',\n",
       " 'qi qian': '202149',\n",
       " 'qi sun': '202150',\n",
       " 'qi li': '202151',\n",
       " 'qi zhou': '202152',\n",
       " 'qi wu': '202153',\n",
       " 'qi zheng': '202154',\n",
       " 'qi wang': '202155',\n",
       " 'qi feng': '202156',\n",
       " 'qi cheng': '202157',\n",
       " 'qi chu': '202158',\n",
       " 'qi wei': '202159',\n",
       " 'ba zhao': '202160',\n",
       " 'ba qian': '202161',\n",
       " 'ba sun': '202162',\n",
       " 'ba li': '202163',\n",
       " 'ba zhou': '202164',\n",
       " 'ba wu': '202165',\n",
       " 'ba zheng': '202166',\n",
       " 'ba wang': '202167',\n",
       " 'ba feng': '202168',\n",
       " 'ba cheng': '202169',\n",
       " 'ba chu': '202170',\n",
       " 'ba wei': '202171',\n",
       " 'jiu zhao': '202172',\n",
       " 'jiu qian': '202173',\n",
       " 'jiu sun': '202174',\n",
       " 'jiu li': '202175',\n",
       " 'jiu zhou': '202176',\n",
       " 'jiu wu': '202177',\n",
       " 'jiu zheng': '202178',\n",
       " 'jiu wang': '202179',\n",
       " 'jiu feng': '202180',\n",
       " 'jiu cheng': '202181',\n",
       " 'jiu chu': '202182',\n",
       " 'jiu wei': '202183',\n",
       " 'shi zhao': '202184',\n",
       " 'shi qian': '202185',\n",
       " 'shi sun': '202186',\n",
       " 'shi li': '202187',\n",
       " 'shi zhou': '202188',\n",
       " 'shi wu': '202189',\n",
       " 'shi zheng': '202190',\n",
       " 'shi wang': '202191',\n",
       " 'shi feng': '202192',\n",
       " 'shi cheng': '202193',\n",
       " 'shi chu': '202194',\n",
       " 'shi wei': '202195'}"
      ]
     },
     "execution_count": 81,
     "metadata": {},
     "output_type": "execute_result"
    }
   ],
   "source": [
    "name_to_id"
   ]
  },
  {
   "cell_type": "code",
   "execution_count": 82,
   "id": "a27f9924",
   "metadata": {},
   "outputs": [
    {
     "name": "stdout",
     "output_type": "stream",
     "text": [
      "input a name:qi zheng\n",
      "Id:202154 Name:qi zheng Physics:93 Math:<module 'math' (built-in)> Phython:89\n"
     ]
    }
   ],
   "source": [
    "name=input('input a name:')\n",
    "\n",
    "sid=name_to_id[name]\n",
    "scores[sid]\n",
    "print(f\"Id:{sid} Name:{scores[sid]['name']} Physics:{scores[sid]['physics']} Math:{scores[sid]['math']} Phython:{scores[sid]['python']}\")"
   ]
  },
  {
   "cell_type": "code",
   "execution_count": null,
   "id": "89d6a3b8",
   "metadata": {},
   "outputs": [],
   "source": []
  }
 ],
 "metadata": {
  "kernelspec": {
   "display_name": "Python 3",
   "language": "python",
   "name": "python3"
  },
  "language_info": {
   "codemirror_mode": {
    "name": "ipython",
    "version": 3
   },
   "file_extension": ".py",
   "mimetype": "text/x-python",
   "name": "python",
   "nbconvert_exporter": "python",
   "pygments_lexer": "ipython3",
   "version": "3.8.8"
  }
 },
 "nbformat": 4,
 "nbformat_minor": 5
}
