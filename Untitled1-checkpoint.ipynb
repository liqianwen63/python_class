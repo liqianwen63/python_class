{
 "cells": [
  {
   "cell_type": "code",
   "execution_count": 1,
   "id": "25aae8ed-c364-4f1c-a166-0b78ac15162b",
   "metadata": {},
   "outputs": [
    {
     "name": "stdout",
     "output_type": "stream",
     "text": [
      "hello world\n"
     ]
    }
   ],
   "source": [
    "print(\"hello world\")"
   ]
  },
  {
   "cell_type": "code",
   "execution_count": 3,
   "id": "993b1c8f-eb36-4d9c-9013-5b233391df72",
   "metadata": {},
   "outputs": [
    {
     "name": "stdout",
     "output_type": "stream",
     "text": [
      "b\n"
     ]
    }
   ],
   "source": [
    "if 3==4:\n",
    "    print('a')\n",
    "else:\n",
    "    print('b')"
   ]
  },
  {
   "cell_type": "code",
   "execution_count": 4,
   "id": "429c7f00-4b2b-4688-b573-100837ab944b",
   "metadata": {},
   "outputs": [
    {
     "name": "stdout",
     "output_type": "stream",
     "text": [
      "1 2 3 4 5 6 7 8 9 "
     ]
    }
   ],
   "source": [
    "x=1\n",
    "while x<10:\n",
    "    print(x,end=' ')\n",
    "    x=x+1"
   ]
  },
  {
   "cell_type": "code",
   "execution_count": 32,
   "id": "37208d53-40b5-4cc8-8300-0cf0ba3669c4",
   "metadata": {},
   "outputs": [
    {
     "ename": "Terminator",
     "evalue": "",
     "output_type": "error",
     "traceback": [
      "\u001b[1;31m---------------------------------------------------------------------------\u001b[0m",
      "\u001b[1;31mTerminator\u001b[0m                                Traceback (most recent call last)",
      "\u001b[1;32m<ipython-input-32-41fca6ecec0e>\u001b[0m in \u001b[0;36m<module>\u001b[1;34m\u001b[0m\n\u001b[0;32m      8\u001b[0m \u001b[0mx\u001b[0m\u001b[1;33m=\u001b[0m\u001b[1;36m1\u001b[0m\u001b[1;33m\u001b[0m\u001b[1;33m\u001b[0m\u001b[0m\n\u001b[0;32m      9\u001b[0m \u001b[1;32mwhile\u001b[0m \u001b[0mx\u001b[0m\u001b[1;33m<\u001b[0m\u001b[1;36m400\u001b[0m\u001b[1;33m:\u001b[0m\u001b[1;33m\u001b[0m\u001b[1;33m\u001b[0m\u001b[0m\n\u001b[1;32m---> 10\u001b[1;33m     \u001b[0mturtle\u001b[0m\u001b[1;33m.\u001b[0m\u001b[0mforward\u001b[0m\u001b[1;33m(\u001b[0m\u001b[0mx\u001b[0m\u001b[1;33m)\u001b[0m\u001b[1;33m\u001b[0m\u001b[1;33m\u001b[0m\u001b[0m\n\u001b[0m\u001b[0;32m     11\u001b[0m     \u001b[0mturtle\u001b[0m\u001b[1;33m.\u001b[0m\u001b[0mright\u001b[0m\u001b[1;33m(\u001b[0m\u001b[1;36m130\u001b[0m\u001b[1;33m)\u001b[0m\u001b[1;33m\u001b[0m\u001b[1;33m\u001b[0m\u001b[0m\n\u001b[0;32m     12\u001b[0m     \u001b[0mx\u001b[0m\u001b[1;33m+=\u001b[0m\u001b[1;36m2\u001b[0m\u001b[1;33m\u001b[0m\u001b[1;33m\u001b[0m\u001b[0m\n",
      "\u001b[1;32mD:\\anaconda\\lib\\turtle.py\u001b[0m in \u001b[0;36mforward\u001b[1;34m(distance)\u001b[0m\n",
      "\u001b[1;31mTerminator\u001b[0m: "
     ]
    }
   ],
   "source": [
    "import turtle\n",
    "\n",
    "turtle.hideturtle()\n",
    "turtle.speed(0.01)\n",
    "turtle.bgcolor('black')\n",
    "turtle.color(0.1,0.5,0.5)\n",
    "\n",
    "x=1\n",
    "while x<400:\n",
    "    turtle.forward(x)\n",
    "    turtle.right(130)\n",
    "    x+=2\n",
    "\n",
    "\n",
    "turtle.exitonclick()"
   ]
  },
  {
   "cell_type": "code",
   "execution_count": 35,
   "id": "28a9cc64-21a3-4c3a-b5ae-38f39c15885b",
   "metadata": {},
   "outputs": [
    {
     "data": {
      "text/plain": [
       "str"
      ]
     },
     "execution_count": 35,
     "metadata": {},
     "output_type": "execute_result"
    }
   ],
   "source": [
    "s='hello'\n",
    "type(s)"
   ]
  },
  {
   "cell_type": "code",
   "execution_count": 36,
   "id": "bfdcdd55-22bb-499e-b30c-270fdea371e1",
   "metadata": {},
   "outputs": [
    {
     "data": {
      "text/plain": [
       "'h'"
      ]
     },
     "execution_count": 36,
     "metadata": {},
     "output_type": "execute_result"
    }
   ],
   "source": [
    "s[0]"
   ]
  },
  {
   "cell_type": "code",
   "execution_count": 39,
   "id": "b7785daa-9ad0-45c2-b438-7455f532591c",
   "metadata": {},
   "outputs": [
    {
     "data": {
      "text/plain": [
       "15"
      ]
     },
     "execution_count": 39,
     "metadata": {},
     "output_type": "execute_result"
    }
   ],
   "source": [
    "1+2+3\\\n",
    "+4+5"
   ]
  },
  {
   "cell_type": "code",
   "execution_count": 40,
   "id": "50b1ae67-b1d5-4f9c-8593-0129292fba60",
   "metadata": {},
   "outputs": [
    {
     "name": "stdout",
     "output_type": "stream",
     "text": [
      "15\n"
     ]
    }
   ],
   "source": [
    "print(1+2+3\n",
    "+4+5)"
   ]
  },
  {
   "cell_type": "code",
   "execution_count": 41,
   "id": "c4ef8038-8e0e-4d6e-8b79-4c7863e859a3",
   "metadata": {},
   "outputs": [
    {
     "data": {
      "text/plain": [
       "15"
      ]
     },
     "execution_count": 41,
     "metadata": {},
     "output_type": "execute_result"
    }
   ],
   "source": [
    "(1+2+3\n",
    "+4+5)"
   ]
  },
  {
   "cell_type": "code",
   "execution_count": 45,
   "id": "061e4f18-ca55-43d9-b326-ae92c7037a95",
   "metadata": {},
   "outputs": [
    {
     "name": "stdout",
     "output_type": "stream",
     "text": [
      "no\n"
     ]
    }
   ],
   "source": [
    "if 1+1==3:\n",
    "    print('yes')\n",
    "else:\n",
    "    print('no')"
   ]
  },
  {
   "cell_type": "code",
   "execution_count": 48,
   "id": "a0ad9739-0af7-4946-9a3f-8e4cf74bee35",
   "metadata": {},
   "outputs": [
    {
     "ename": "SyntaxError",
     "evalue": "EOL while scanning string literal (<ipython-input-48-86415cdc1d30>, line 1)",
     "output_type": "error",
     "traceback": [
      "\u001b[1;36m  File \u001b[1;32m\"<ipython-input-48-86415cdc1d30>\"\u001b[1;36m, line \u001b[1;32m1\u001b[0m\n\u001b[1;33m    x=bytearray(b'hello)\u001b[0m\n\u001b[1;37m                        ^\u001b[0m\n\u001b[1;31mSyntaxError\u001b[0m\u001b[1;31m:\u001b[0m EOL while scanning string literal\n"
     ]
    }
   ],
   "source": [
    "x=bytearray(b'hello)"
   ]
  },
  {
   "cell_type": "code",
   "execution_count": 49,
   "id": "1bd31e7d-7520-455d-ac14-fb012d02f10e",
   "metadata": {},
   "outputs": [
    {
     "data": {
      "text/plain": [
       "b'hello'"
      ]
     },
     "execution_count": 49,
     "metadata": {},
     "output_type": "execute_result"
    }
   ],
   "source": [
    "\"hello\".encode('ASCII')"
   ]
  },
  {
   "cell_type": "code",
   "execution_count": 50,
   "id": "48109c50-5bd8-4f66-bd04-184fa19d1974",
   "metadata": {},
   "outputs": [
    {
     "data": {
      "text/plain": [
       "b'nihao'"
      ]
     },
     "execution_count": 50,
     "metadata": {},
     "output_type": "execute_result"
    }
   ],
   "source": [
    "\"nihao\".encode('ASCII')"
   ]
  },
  {
   "cell_type": "code",
   "execution_count": 51,
   "id": "842f77a6-bb76-4d53-8cef-9b331efc6695",
   "metadata": {},
   "outputs": [
    {
     "data": {
      "text/plain": [
       "b'\\xc4\\xfa\\xba\\xc3'"
      ]
     },
     "execution_count": 51,
     "metadata": {},
     "output_type": "execute_result"
    }
   ],
   "source": [
    "\"您好\".encode('MBCS')#multi-byte character set"
   ]
  },
  {
   "cell_type": "code",
   "execution_count": 52,
   "id": "b1c1fae4-0288-4674-9352-556190c19f97",
   "metadata": {},
   "outputs": [
    {
     "data": {
      "text/plain": [
       "b'\\xff\\xfe\\xa8`}Y'"
      ]
     },
     "execution_count": 52,
     "metadata": {},
     "output_type": "execute_result"
    }
   ],
   "source": [
    "\"您好\".encode('UTF-16')"
   ]
  },
  {
   "cell_type": "code",
   "execution_count": 53,
   "id": "875f841a-0644-4d05-bc00-2d21b3edb70a",
   "metadata": {},
   "outputs": [],
   "source": [
    "#list是一个可变的对象"
   ]
  },
  {
   "cell_type": "code",
   "execution_count": 55,
   "id": "98260845-ab0e-4740-8eff-67ec0e20fbd4",
   "metadata": {},
   "outputs": [],
   "source": [
    "my_list=[0,1,2,3,4,5]"
   ]
  },
  {
   "cell_type": "code",
   "execution_count": 56,
   "id": "4cd6ddb3-0a0b-452d-acc6-3e863777b4c5",
   "metadata": {},
   "outputs": [
    {
     "data": {
      "text/plain": [
       "0"
      ]
     },
     "execution_count": 56,
     "metadata": {},
     "output_type": "execute_result"
    }
   ],
   "source": [
    "my_list[0]"
   ]
  },
  {
   "cell_type": "code",
   "execution_count": 59,
   "id": "b966fa42-dd47-49a6-96e4-372e88cf11b9",
   "metadata": {},
   "outputs": [],
   "source": [
    "my_list[1]=100"
   ]
  },
  {
   "cell_type": "code",
   "execution_count": 60,
   "id": "ee16fd86-0ec5-4fd4-9574-05103f091b83",
   "metadata": {},
   "outputs": [
    {
     "data": {
      "text/plain": [
       "[0, 100, 2, 3, 4, 5]"
      ]
     },
     "execution_count": 60,
     "metadata": {},
     "output_type": "execute_result"
    }
   ],
   "source": [
    "my_list"
   ]
  },
  {
   "cell_type": "code",
   "execution_count": 61,
   "id": "d772b0ef-a3fe-4d1f-89e2-09008ccc2230",
   "metadata": {},
   "outputs": [
    {
     "data": {
      "text/plain": [
       "5"
      ]
     },
     "execution_count": 61,
     "metadata": {},
     "output_type": "execute_result"
    }
   ],
   "source": [
    "my_list[-1]"
   ]
  },
  {
   "cell_type": "code",
   "execution_count": 62,
   "id": "0a25a892-59f6-4a8b-ba05-ce678fdb8800",
   "metadata": {},
   "outputs": [
    {
     "data": {
      "text/plain": [
       "4"
      ]
     },
     "execution_count": 62,
     "metadata": {},
     "output_type": "execute_result"
    }
   ],
   "source": [
    "my_list[-2]"
   ]
  },
  {
   "cell_type": "code",
   "execution_count": 63,
   "id": "9d030c57-9268-4597-92aa-30045a94e0cc",
   "metadata": {},
   "outputs": [
    {
     "data": {
      "text/plain": [
       "0"
      ]
     },
     "execution_count": 63,
     "metadata": {},
     "output_type": "execute_result"
    }
   ],
   "source": [
    "my_list[-6]"
   ]
  },
  {
   "cell_type": "code",
   "execution_count": 64,
   "id": "8ec0b61b-ae16-4b74-acd9-424754c7e707",
   "metadata": {},
   "outputs": [
    {
     "data": {
      "text/plain": [
       "[0, 100, 2]"
      ]
     },
     "execution_count": 64,
     "metadata": {},
     "output_type": "execute_result"
    }
   ],
   "source": [
    "my_list[0:3]#3不放在取的元素里面"
   ]
  },
  {
   "cell_type": "code",
   "execution_count": 66,
   "id": "d899f8d8-136f-43a7-b68d-0f653bf687cf",
   "metadata": {},
   "outputs": [
    {
     "data": {
      "text/plain": [
       "[0, 2, 4]"
      ]
     },
     "execution_count": 66,
     "metadata": {},
     "output_type": "execute_result"
    }
   ],
   "source": [
    "my_list[0:6:2]"
   ]
  },
  {
   "cell_type": "code",
   "execution_count": 67,
   "id": "2256e2fa-af39-4302-b55f-deeb408d5574",
   "metadata": {},
   "outputs": [
    {
     "data": {
      "text/plain": [
       "[0, 2, 4]"
      ]
     },
     "execution_count": 67,
     "metadata": {},
     "output_type": "execute_result"
    }
   ],
   "source": [
    "my_list[0::2]"
   ]
  },
  {
   "cell_type": "code",
   "execution_count": 68,
   "id": "b1046f20-e051-416c-9a87-46b7ab57237b",
   "metadata": {},
   "outputs": [
    {
     "data": {
      "text/plain": [
       "[5, 4, 3, 2, 100, 0]"
      ]
     },
     "execution_count": 68,
     "metadata": {},
     "output_type": "execute_result"
    }
   ],
   "source": [
    "my_list[-1::-1]"
   ]
  },
  {
   "cell_type": "code",
   "execution_count": 69,
   "id": "853007eb-c6bb-46c9-ba23-a67661c755f8",
   "metadata": {},
   "outputs": [
    {
     "data": {
      "text/plain": [
       "[0, 100, 2, 3, 4, 5]"
      ]
     },
     "execution_count": 69,
     "metadata": {},
     "output_type": "execute_result"
    }
   ],
   "source": [
    "a=my_list\n",
    "a"
   ]
  },
  {
   "cell_type": "code",
   "execution_count": 70,
   "id": "a6e5be72-ffd5-494f-9ebb-071cddd7e574",
   "metadata": {},
   "outputs": [],
   "source": [
    "a[0]=-1"
   ]
  },
  {
   "cell_type": "code",
   "execution_count": 71,
   "id": "dc2c266a-186d-4b37-94a8-576116cadd19",
   "metadata": {},
   "outputs": [
    {
     "data": {
      "text/plain": [
       "[-1, 100, 2, 3, 4, 5]"
      ]
     },
     "execution_count": 71,
     "metadata": {},
     "output_type": "execute_result"
    }
   ],
   "source": [
    "a"
   ]
  },
  {
   "cell_type": "code",
   "execution_count": 72,
   "id": "b440bf27-a290-4bd8-8eb5-8b3c26b3e36d",
   "metadata": {},
   "outputs": [
    {
     "data": {
      "text/plain": [
       "[-1, 100, 2, 3, 4, 5]"
      ]
     },
     "execution_count": 72,
     "metadata": {},
     "output_type": "execute_result"
    }
   ],
   "source": [
    "my_list"
   ]
  },
  {
   "cell_type": "code",
   "execution_count": 74,
   "id": "d42c96ce-cfe4-4730-b78f-73a1bf2d8200",
   "metadata": {},
   "outputs": [
    {
     "data": {
      "text/plain": [
       "[-1, 100, 2, 3, 4, 5]"
      ]
     },
     "execution_count": 74,
     "metadata": {},
     "output_type": "execute_result"
    }
   ],
   "source": [
    "my_list=a\n",
    "my_list"
   ]
  },
  {
   "cell_type": "code",
   "execution_count": 75,
   "id": "f8129ac5-a0a7-4cff-a984-b5b55939b3fc",
   "metadata": {},
   "outputs": [],
   "source": [
    "my_list[0]=1"
   ]
  },
  {
   "cell_type": "code",
   "execution_count": 76,
   "id": "bfbe4888-0a07-467d-b2b3-e297f423ee11",
   "metadata": {},
   "outputs": [
    {
     "data": {
      "text/plain": [
       "[1, 100, 2, 3, 4, 5]"
      ]
     },
     "execution_count": 76,
     "metadata": {},
     "output_type": "execute_result"
    }
   ],
   "source": [
    "my_list"
   ]
  },
  {
   "cell_type": "code",
   "execution_count": 77,
   "id": "d817492f-aa93-445b-a9ac-0b117fbd3b72",
   "metadata": {},
   "outputs": [
    {
     "data": {
      "text/plain": [
       "[1, 100, 2, 3, 4, 5]"
      ]
     },
     "execution_count": 77,
     "metadata": {},
     "output_type": "execute_result"
    }
   ],
   "source": [
    "a"
   ]
  },
  {
   "cell_type": "code",
   "execution_count": 78,
   "id": "67b2df3c-bc5d-4c58-a322-2f293b6b5972",
   "metadata": {},
   "outputs": [
    {
     "data": {
      "text/plain": [
       "[1, 2, 1, 2, 1, 2]"
      ]
     },
     "execution_count": 78,
     "metadata": {},
     "output_type": "execute_result"
    }
   ],
   "source": [
    "[1,2]*3"
   ]
  },
  {
   "cell_type": "code",
   "execution_count": 79,
   "id": "185c8918-92c3-4d9c-90cb-b7713eb45450",
   "metadata": {},
   "outputs": [
    {
     "data": {
      "text/plain": [
       "[1, 2, 3, 4]"
      ]
     },
     "execution_count": 79,
     "metadata": {},
     "output_type": "execute_result"
    }
   ],
   "source": [
    "[1,2]+[3,4]"
   ]
  },
  {
   "cell_type": "code",
   "execution_count": 81,
   "id": "b00efdfa-6e64-4a5b-b342-0742ab8be552",
   "metadata": {},
   "outputs": [],
   "source": [
    "a=[]"
   ]
  },
  {
   "cell_type": "code",
   "execution_count": 82,
   "id": "3f57412f-80f8-4e28-a52f-34dd1af67e97",
   "metadata": {
    "tags": []
   },
   "outputs": [],
   "source": [
    "a=list()"
   ]
  },
  {
   "cell_type": "code",
   "execution_count": 84,
   "id": "6371409b-580b-4577-9730-e0755ef71229",
   "metadata": {},
   "outputs": [
    {
     "data": {
      "text/plain": [
       "[1, 1]"
      ]
     },
     "execution_count": 84,
     "metadata": {},
     "output_type": "execute_result"
    }
   ],
   "source": [
    "a.append(1)\n",
    "a"
   ]
  },
  {
   "cell_type": "code",
   "execution_count": 89,
   "id": "7432f0fd-b598-4889-aad2-9d34c9be8073",
   "metadata": {},
   "outputs": [
    {
     "data": {
      "text/plain": [
       "[1, 1, 2, 2, 2, 2, 2]"
      ]
     },
     "execution_count": 89,
     "metadata": {},
     "output_type": "execute_result"
    }
   ],
   "source": [
    "a.append(2)\n",
    "a"
   ]
  },
  {
   "cell_type": "code",
   "execution_count": 93,
   "id": "71649e18-4d86-4b3d-9da0-95f2bbedafa2",
   "metadata": {},
   "outputs": [
    {
     "data": {
      "text/plain": [
       "[1, 2, 3, 4, 5, 6, 7, 8, 9, 10]"
      ]
     },
     "execution_count": 93,
     "metadata": {},
     "output_type": "execute_result"
    }
   ],
   "source": [
    "a=list()\n",
    "x=1\n",
    "while x<=10:\n",
    "\n",
    "    a.append(x)\n",
    "    x+=1\n",
    "a"
   ]
  },
  {
   "cell_type": "code",
   "execution_count": 94,
   "id": "615d871d-480e-42c6-81df-6de3bf0b4981",
   "metadata": {},
   "outputs": [
    {
     "data": {
      "text/plain": [
       "['h', 'e', 'l', 'l', 'o']"
      ]
     },
     "execution_count": 94,
     "metadata": {},
     "output_type": "execute_result"
    }
   ],
   "source": [
    "h=list('hello')\n",
    "h"
   ]
  },
  {
   "cell_type": "code",
   "execution_count": 95,
   "id": "3ed9e8c3-09df-4e18-8ebf-4e68eb009f6a",
   "metadata": {},
   "outputs": [
    {
     "data": {
      "text/plain": [
       "'h*e*l*l*o'"
      ]
     },
     "execution_count": 95,
     "metadata": {},
     "output_type": "execute_result"
    }
   ],
   "source": [
    "'*'.join(h)"
   ]
  },
  {
   "cell_type": "code",
   "execution_count": 96,
   "id": "94a1bb2e-70d8-4f46-b328-a7aa06439d0c",
   "metadata": {},
   "outputs": [
    {
     "data": {
      "text/plain": [
       "[1, 2, 3, 4, 5, 6, 7, 8, 9, 10]"
      ]
     },
     "execution_count": 96,
     "metadata": {},
     "output_type": "execute_result"
    }
   ],
   "source": [
    "a=list(range(1,11))#前开后闭\n",
    "a"
   ]
  },
  {
   "cell_type": "code",
   "execution_count": 97,
   "id": "91124a42-2d6a-4cb5-bda7-46e3da4604ad",
   "metadata": {},
   "outputs": [
    {
     "data": {
      "text/plain": [
       "True"
      ]
     },
     "execution_count": 97,
     "metadata": {},
     "output_type": "execute_result"
    }
   ],
   "source": [
    "3 in a"
   ]
  },
  {
   "cell_type": "code",
   "execution_count": 98,
   "id": "0a8dce7d-3146-420a-8d05-0fb5c979c7d5",
   "metadata": {},
   "outputs": [
    {
     "data": {
      "text/plain": [
       "False"
      ]
     },
     "execution_count": 98,
     "metadata": {},
     "output_type": "execute_result"
    }
   ],
   "source": [
    "0 in a"
   ]
  },
  {
   "cell_type": "code",
   "execution_count": 99,
   "id": "ea414af6-6d50-408e-b8da-245d3d7722a0",
   "metadata": {},
   "outputs": [
    {
     "data": {
      "text/plain": [
       "False"
      ]
     },
     "execution_count": 99,
     "metadata": {},
     "output_type": "execute_result"
    }
   ],
   "source": [
    "1.01 in a"
   ]
  },
  {
   "cell_type": "code",
   "execution_count": null,
   "id": "ad818324-9a65-4d8e-8853-dd31941b9e0e",
   "metadata": {},
   "outputs": [],
   "source": [
    "ch=input(\"input a char\")\n",
    "if ch==('a'or ch=='e' or ch=='i')"
   ]
  },
  {
   "cell_type": "code",
   "execution_count": 100,
   "id": "5b1741bc-af8b-4087-9892-954e8cc14227",
   "metadata": {},
   "outputs": [
    {
     "name": "stdout",
     "output_type": "stream",
     "text": [
      "0\n",
      "1\n",
      "2\n",
      "3\n",
      "4\n",
      "5\n",
      "6\n",
      "7\n",
      "8\n",
      "9\n"
     ]
    }
   ],
   "source": [
    "for i in range(0,10):\n",
    "    print(i)"
   ]
  },
  {
   "cell_type": "code",
   "execution_count": 101,
   "id": "c73ff0fd-86eb-4473-9eaf-96c0d0c69c9f",
   "metadata": {},
   "outputs": [
    {
     "name": "stdout",
     "output_type": "stream",
     "text": [
      "1^3=1\n",
      "2^3=8\n",
      "3^3=27\n",
      "4^3=64\n",
      "5^3=125\n",
      "6^3=216\n",
      "7^3=343\n",
      "8^3=512\n",
      "9^3=729\n"
     ]
    }
   ],
   "source": [
    "for i in range(1,10):\n",
    "    print(f'{i}^3={i**3}')"
   ]
  },
  {
   "cell_type": "code",
   "execution_count": 102,
   "id": "c9724c76-4f5c-4f32-83a2-26f410493727",
   "metadata": {},
   "outputs": [
    {
     "name": "stdout",
     "output_type": "stream",
     "text": [
      "         *\n",
      "        ***\n",
      "       *****\n",
      "      *******\n",
      "     *********\n",
      "    ***********\n",
      "   *************\n",
      "  ***************\n",
      " *****************\n",
      "*******************\n"
     ]
    }
   ],
   "source": [
    "for i in range(0,10):\n",
    "    print(' ' * (9-i) + '*'*(2*i+1))"
   ]
  },
  {
   "cell_type": "code",
   "execution_count": 103,
   "id": "bcbfe07a-e3fa-4b6f-b8cc-171e0974bf19",
   "metadata": {},
   "outputs": [
    {
     "name": "stdout",
     "output_type": "stream",
     "text": [
      "         *         \n",
      "        ***        \n",
      "       *****       \n",
      "      *******      \n",
      "     *********     \n",
      "    ***********    \n",
      "   *************   \n",
      "  ***************  \n",
      " ***************** \n",
      "*******************\n"
     ]
    }
   ],
   "source": [
    "for i in range(0,10):\n",
    "    print(('*'*(2*i+1)).center(19))"
   ]
  },
  {
   "cell_type": "code",
   "execution_count": 116,
   "id": "1e79dbef-b091-4067-baaa-165275b339e8",
   "metadata": {},
   "outputs": [
    {
     "name": "stdout",
     "output_type": "stream",
     "text": [
      "1*1=1\t1*2=2\t1*3=3\t1*4=4\t1*5=5\t1*6=6\t1*7=7\t1*8=8\t1*9=9\t\n",
      "\t2*2=4\t2*3=6\t2*4=8\t2*5=10\t2*6=12\t2*7=14\t2*8=16\t2*9=18\t\n",
      "\t\t3*3=9\t3*4=12\t3*5=15\t3*6=18\t3*7=21\t3*8=24\t3*9=27\t\n",
      "\t\t\t4*4=16\t4*5=20\t4*6=24\t4*7=28\t4*8=32\t4*9=36\t\n",
      "\t\t\t\t5*5=25\t5*6=30\t5*7=35\t5*8=40\t5*9=45\t\n",
      "\t\t\t\t\t6*6=36\t6*7=42\t6*8=48\t6*9=54\t\n",
      "\t\t\t\t\t\t7*7=49\t7*8=56\t7*9=63\t\n",
      "\t\t\t\t\t\t\t8*8=64\t8*9=72\t\n",
      "\t\t\t\t\t\t\t\t9*9=81\t\n"
     ]
    }
   ],
   "source": [
    "for x in range(1,10):\n",
    "    for y in range(1,10):\n",
    "        if x<=y:\n",
    "            print(f'{x}*{y}={x*y}',end='\\t')\n",
    "        else:\n",
    "            print('\\t',end='')#跳格键\n",
    "    \n",
    "    print('')#回车"
   ]
  },
  {
   "cell_type": "code",
   "execution_count": 118,
   "id": "701e403f-62aa-4416-a7aa-8fb166eacd2f",
   "metadata": {},
   "outputs": [
    {
     "data": {
      "text/plain": [
       "[1, 2, 3]"
      ]
     },
     "execution_count": 118,
     "metadata": {},
     "output_type": "execute_result"
    }
   ],
   "source": [
    "a=[1,2,3]\n",
    "b=a.copy()\n",
    "b[0]=100\n",
    "a"
   ]
  },
  {
   "cell_type": "code",
   "execution_count": null,
   "id": "a7590722-fabf-41fe-9a58-e9d1e3956503",
   "metadata": {},
   "outputs": [],
   "source": []
  },
  {
   "cell_type": "code",
   "execution_count": 119,
   "id": "ca58c11d-a143-4775-b751-37d6810dc117",
   "metadata": {},
   "outputs": [
    {
     "data": {
      "text/plain": [
       "[100, 2, 3]"
      ]
     },
     "execution_count": 119,
     "metadata": {},
     "output_type": "execute_result"
    }
   ],
   "source": [
    "b"
   ]
  },
  {
   "cell_type": "code",
   "execution_count": 121,
   "id": "32612810-8681-474f-ad1a-233075727222",
   "metadata": {},
   "outputs": [
    {
     "data": {
      "text/plain": [
       "[1, 2, 3, [4, 5]]"
      ]
     },
     "execution_count": 121,
     "metadata": {},
     "output_type": "execute_result"
    }
   ],
   "source": [
    "a=[1,2,3]\n",
    "a.append([4,5])\n",
    "a"
   ]
  },
  {
   "cell_type": "code",
   "execution_count": 123,
   "id": "7a681f46-ba4e-40c0-9655-ea59392081b6",
   "metadata": {},
   "outputs": [],
   "source": [
    "b =a.copy()"
   ]
  },
  {
   "cell_type": "code",
   "execution_count": 124,
   "id": "6778f683-7ee7-4a38-b4fd-60f1f49d2e56",
   "metadata": {},
   "outputs": [
    {
     "data": {
      "text/plain": [
       "[1, 2, 3, [4, 5]]"
      ]
     },
     "execution_count": 124,
     "metadata": {},
     "output_type": "execute_result"
    }
   ],
   "source": [
    "b"
   ]
  },
  {
   "cell_type": "code",
   "execution_count": 125,
   "id": "ed934488-f6b9-47f2-81cc-19b7ea5b4cfa",
   "metadata": {},
   "outputs": [],
   "source": [
    "b[0]=10"
   ]
  },
  {
   "cell_type": "code",
   "execution_count": 126,
   "id": "b2a6522a-b1f7-4cb2-959d-6901703b2f5c",
   "metadata": {},
   "outputs": [
    {
     "data": {
      "text/plain": [
       "[10, 2, 3, [4, 5]]"
      ]
     },
     "execution_count": 126,
     "metadata": {},
     "output_type": "execute_result"
    }
   ],
   "source": [
    "b"
   ]
  },
  {
   "cell_type": "code",
   "execution_count": 127,
   "id": "8f0497dd-36ff-4513-8675-41d69d096bbd",
   "metadata": {},
   "outputs": [
    {
     "data": {
      "text/plain": [
       "[1, 2, 3, [4, 5]]"
      ]
     },
     "execution_count": 127,
     "metadata": {},
     "output_type": "execute_result"
    }
   ],
   "source": [
    "a"
   ]
  },
  {
   "cell_type": "code",
   "execution_count": 129,
   "id": "766ab86c-bf4d-4151-ad77-28a14c4a208d",
   "metadata": {},
   "outputs": [
    {
     "data": {
      "text/plain": [
       "4"
      ]
     },
     "execution_count": 129,
     "metadata": {},
     "output_type": "execute_result"
    }
   ],
   "source": [
    "b[-1][0]"
   ]
  },
  {
   "cell_type": "code",
   "execution_count": 130,
   "id": "ca9e355f-092d-44d2-8e8c-46c77b3e0c83",
   "metadata": {},
   "outputs": [],
   "source": [
    "b[-1][0]=40"
   ]
  },
  {
   "cell_type": "code",
   "execution_count": 131,
   "id": "c8e6f322-ad98-42c3-b581-ecff64cc5a77",
   "metadata": {},
   "outputs": [
    {
     "data": {
      "text/plain": [
       "[10, 2, 3, [40, 5]]"
      ]
     },
     "execution_count": 131,
     "metadata": {},
     "output_type": "execute_result"
    }
   ],
   "source": [
    "b"
   ]
  },
  {
   "cell_type": "code",
   "execution_count": 132,
   "id": "545392e0-e577-4066-9c52-03d7fef20cfc",
   "metadata": {},
   "outputs": [
    {
     "data": {
      "text/plain": [
       "[1, 2, 3, [40, 5]]"
      ]
     },
     "execution_count": 132,
     "metadata": {},
     "output_type": "execute_result"
    }
   ],
   "source": [
    "a"
   ]
  },
  {
   "cell_type": "code",
   "execution_count": 133,
   "id": "e0967f10-d1ea-4161-924d-0c1fb9c65022",
   "metadata": {},
   "outputs": [
    {
     "name": "stdout",
     "output_type": "stream",
     "text": [
      "[1, 2, 3, [4, 5]]\n",
      "****************************************\n",
      "[1, 2, 3, [4, 5]]\n"
     ]
    }
   ],
   "source": [
    "from copy import deepcopy#深拷贝，将里面所有的内容都拷贝下来\n",
    "a=[1,2,3,[4,5]]\n",
    "b=deepcopy(a)\n",
    "print(a)\n",
    "print('*'*40)\n",
    "print(b)"
   ]
  },
  {
   "cell_type": "code",
   "execution_count": null,
   "id": "da5bca83-6ce6-4da1-87fb-e8f8c6f58faa",
   "metadata": {},
   "outputs": [],
   "source": [
    "b[0]"
   ]
  }
 ],
 "metadata": {
  "kernelspec": {
   "display_name": "Python 3",
   "language": "python",
   "name": "python3"
  },
  "language_info": {
   "codemirror_mode": {
    "name": "ipython",
    "version": 3
   },
   "file_extension": ".py",
   "mimetype": "text/x-python",
   "name": "python",
   "nbconvert_exporter": "python",
   "pygments_lexer": "ipython3",
   "version": "3.8.8"
  }
 },
 "nbformat": 4,
 "nbformat_minor": 5
}
