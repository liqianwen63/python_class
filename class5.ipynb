{
 "cells": [
  {
   "cell_type": "code",
   "execution_count": 2,
   "id": "1faff53f",
   "metadata": {},
   "outputs": [],
   "source": [
    "def hello(name):\n",
    "    print(f'hello,{name}!')"
   ]
  },
  {
   "cell_type": "code",
   "execution_count": 3,
   "id": "9e16650d",
   "metadata": {},
   "outputs": [
    {
     "data": {
      "text/plain": [
       "<function __main__.hello(name)>"
      ]
     },
     "execution_count": 3,
     "metadata": {},
     "output_type": "execute_result"
    }
   ],
   "source": [
    "hello"
   ]
  },
  {
   "cell_type": "code",
   "execution_count": 4,
   "id": "74f76770",
   "metadata": {},
   "outputs": [
    {
     "data": {
      "text/plain": [
       "True"
      ]
     },
     "execution_count": 4,
     "metadata": {},
     "output_type": "execute_result"
    }
   ],
   "source": [
    "callable(hello)"
   ]
  },
  {
   "cell_type": "code",
   "execution_count": 5,
   "id": "35bb37cd",
   "metadata": {},
   "outputs": [
    {
     "name": "stdout",
     "output_type": "stream",
     "text": [
      "hello,ecnu!\n"
     ]
    }
   ],
   "source": [
    "hello('ecnu')"
   ]
  },
  {
   "cell_type": "code",
   "execution_count": 6,
   "id": "bf92a838",
   "metadata": {},
   "outputs": [
    {
     "data": {
      "text/plain": [
       "'*        test        *'"
      ]
     },
     "execution_count": 6,
     "metadata": {},
     "output_type": "execute_result"
    }
   ],
   "source": [
    "'test'.center(20).center(22,'*')"
   ]
  },
  {
   "cell_type": "code",
   "execution_count": 7,
   "id": "3903368e",
   "metadata": {},
   "outputs": [],
   "source": [
    "def hello(name):\n",
    "    width=50\n",
    "    print('*'* width)\n",
    "    print(f'hello,{name}!'.center(width - 2).center(width,'*'))\n",
    "    print('*'* width)"
   ]
  },
  {
   "cell_type": "code",
   "execution_count": 8,
   "id": "781ca1c9",
   "metadata": {},
   "outputs": [
    {
     "name": "stdout",
     "output_type": "stream",
     "text": [
      "**************************************************\n",
      "*                  hello,ecnu!                   *\n",
      "**************************************************\n"
     ]
    }
   ],
   "source": [
    "hello('ecnu')"
   ]
  },
  {
   "cell_type": "code",
   "execution_count": 9,
   "id": "5544ef0a",
   "metadata": {},
   "outputs": [
    {
     "name": "stdout",
     "output_type": "stream",
     "text": [
      "**************************************************\n",
      "*                  hello,world!                  *\n",
      "**************************************************\n"
     ]
    }
   ],
   "source": [
    "hello('world')"
   ]
  },
  {
   "cell_type": "code",
   "execution_count": 10,
   "id": "19ae39a1",
   "metadata": {},
   "outputs": [
    {
     "name": "stdout",
     "output_type": "stream",
     "text": [
      "Help on built-in function sum in module builtins:\n",
      "\n",
      "sum(iterable, /, start=0)\n",
      "    Return the sum of a 'start' value (default: 0) plus an iterable of numbers\n",
      "    \n",
      "    When the iterable is empty, return the start value.\n",
      "    This function is intended specifically for use with numeric values and may\n",
      "    reject non-numeric types.\n",
      "\n"
     ]
    }
   ],
   "source": [
    "help(sum)"
   ]
  },
  {
   "cell_type": "code",
   "execution_count": 12,
   "id": "55c727c6",
   "metadata": {},
   "outputs": [],
   "source": [
    "def hello(name):\n",
    "    'say hello to the specified person.'\n",
    "    width = 50\n",
    "    print('*'* width)\n",
    "    print(f'hello,{name}!'.center(width - 2).center(width,'*'))\n",
    "    print('*'* width)"
   ]
  },
  {
   "cell_type": "code",
   "execution_count": 13,
   "id": "60ea1e04",
   "metadata": {},
   "outputs": [
    {
     "name": "stdout",
     "output_type": "stream",
     "text": [
      "Help on function hello in module __main__:\n",
      "\n",
      "hello(name)\n",
      "    say hello to the specified person.\n",
      "\n"
     ]
    }
   ],
   "source": [
    "help(hello)"
   ]
  },
  {
   "cell_type": "code",
   "execution_count": 14,
   "id": "266c6fa0",
   "metadata": {},
   "outputs": [
    {
     "data": {
      "text/plain": [
       "'say hello to the specified person.'"
      ]
     },
     "execution_count": 14,
     "metadata": {},
     "output_type": "execute_result"
    }
   ],
   "source": [
    "hello.__doc__"
   ]
  },
  {
   "cell_type": "code",
   "execution_count": 16,
   "id": "73ae8cf5",
   "metadata": {},
   "outputs": [
    {
     "name": "stdout",
     "output_type": "stream",
     "text": [
      "[1, 1, 2, 3, 5, 8, 13, 21, 34, 55]\n"
     ]
    }
   ],
   "source": [
    "fibs=[1,1]\n",
    "for i in range(8):\n",
    "    fibs.append(fibs[-2]+fibs[-1])\n",
    "\n",
    "print(fibs)"
   ]
  },
  {
   "cell_type": "code",
   "execution_count": 17,
   "id": "fe4294b0",
   "metadata": {},
   "outputs": [],
   "source": [
    "def fibs(num):\n",
    "    result = [1,1]\n",
    "    for i in range(num):\n",
    "           result.append(result[-2]+result[-1])\n",
    "    return result"
   ]
  },
  {
   "cell_type": "code",
   "execution_count": 18,
   "id": "292f6cb6",
   "metadata": {},
   "outputs": [
    {
     "data": {
      "text/plain": [
       "[1, 1, 2, 3, 5, 8, 13, 21, 34, 55, 89, 144]"
      ]
     },
     "execution_count": 18,
     "metadata": {},
     "output_type": "execute_result"
    }
   ],
   "source": [
    "fibs(10)"
   ]
  },
  {
   "cell_type": "code",
   "execution_count": 23,
   "id": "e16c5db7",
   "metadata": {},
   "outputs": [
    {
     "name": "stdout",
     "output_type": "stream",
     "text": [
      "how many steps?18\n",
      "Total number of different ways:6765\n"
     ]
    }
   ],
   "source": [
    "def fib(num):\n",
    "    result = [1,1]\n",
    "    for i in range(num):\n",
    "           result.append(result[-2]+result[-1])\n",
    "    return result[-1]\n",
    "\n",
    "num=int(input(\"how many steps?\"))\n",
    "print(f'Total number of different ways:{fib(num)}')"
   ]
  },
  {
   "cell_type": "code",
   "execution_count": 24,
   "id": "f3ff494e",
   "metadata": {},
   "outputs": [
    {
     "name": "stdout",
     "output_type": "stream",
     "text": [
      "how many steps?18\n",
      "Total number of different ways:2\n"
     ]
    }
   ],
   "source": [
    "def fib(num):\n",
    "    item_before_last,last=1,1\n",
    "    for i in range(num-2):\n",
    "        item_before_last,last=last,item_before_last+last\n",
    "        return last\n",
    "    \n",
    "num=int(input(\"how many steps?\"))\n",
    "print(f'Total number of different ways:{fib(num)}')"
   ]
  },
  {
   "cell_type": "code",
   "execution_count": 25,
   "id": "54798c86",
   "metadata": {},
   "outputs": [
    {
     "name": "stdout",
     "output_type": "stream",
     "text": [
      "2\n"
     ]
    }
   ],
   "source": [
    "def double(x):\n",
    "    x=x*2\n",
    "    \n",
    "a=2\n",
    "double(a)\n",
    "print(a)"
   ]
  },
  {
   "cell_type": "code",
   "execution_count": 3,
   "id": "e29f9ba9",
   "metadata": {},
   "outputs": [
    {
     "name": "stdout",
     "output_type": "stream",
     "text": [
      "['hello']\n"
     ]
    }
   ],
   "source": [
    "def change(a):\n",
    "    a[0]='hello'\n",
    "    \n",
    "x=['hi']\n",
    "change(x)\n",
    "print(x)"
   ]
  },
  {
   "cell_type": "code",
   "execution_count": 4,
   "id": "fe574dbf",
   "metadata": {},
   "outputs": [
    {
     "name": "stdout",
     "output_type": "stream",
     "text": [
      "4\n"
     ]
    }
   ],
   "source": [
    "def double(x):\n",
    "    x=x*2\n",
    "    return x\n",
    "\n",
    "\n",
    "a=2\n",
    "a=double(a)\n",
    "print(a)\n",
    "    "
   ]
  },
  {
   "cell_type": "code",
   "execution_count": 5,
   "id": "45fedc6e",
   "metadata": {},
   "outputs": [
    {
     "name": "stdout",
     "output_type": "stream",
     "text": [
      "**************************************************\n",
      "*                  hello,ecnu!                   *\n",
      "**************************************************\n"
     ]
    }
   ],
   "source": [
    "def hello(name,greeting):\n",
    "    'say hello to the specified person.'\n",
    "    width = 50\n",
    "    print('*'* width)\n",
    "    print(f'hello,{name}!'.center(width - 2).center(width,'*'))\n",
    "    print('*'* width)\n",
    "    \n",
    "hello('ecnu','Hello')"
   ]
  },
  {
   "cell_type": "code",
   "execution_count": 7,
   "id": "b3784601",
   "metadata": {},
   "outputs": [
    {
     "name": "stdout",
     "output_type": "stream",
     "text": [
      "**************************************************\n",
      "*                  hello,hello!                  *\n",
      "**************************************************\n"
     ]
    }
   ],
   "source": [
    "hello('hello','ecnu')"
   ]
  },
  {
   "cell_type": "code",
   "execution_count": 8,
   "id": "020f31ad",
   "metadata": {},
   "outputs": [
    {
     "name": "stdout",
     "output_type": "stream",
     "text": [
      "**************************************************\n",
      "*                  hello,ecnu!                   *\n",
      "**************************************************\n"
     ]
    }
   ],
   "source": [
    "hello(greeting='hello',name='ecnu')"
   ]
  },
  {
   "cell_type": "code",
   "execution_count": 9,
   "id": "a86742e7",
   "metadata": {},
   "outputs": [
    {
     "name": "stdout",
     "output_type": "stream",
     "text": [
      "**************************************************\n",
      "*                  hello,ecnu!                   *\n",
      "**************************************************\n"
     ]
    }
   ],
   "source": [
    "hello(name='ecnu',greeting='hello')"
   ]
  },
  {
   "cell_type": "code",
   "execution_count": 10,
   "id": "d854df7a",
   "metadata": {},
   "outputs": [
    {
     "name": "stdout",
     "output_type": "stream",
     "text": [
      "************************************************************\n",
      "*                       hello,ecnu!                        *\n",
      "************************************************************\n"
     ]
    }
   ],
   "source": [
    "def hello(name,greeting='hello',width=50):\n",
    "    print('*'* width)\n",
    "    print(f'hello,{name}!'.center(width - 2).center(width,'*'))\n",
    "    print('*'* width)\n",
    "    \n",
    "hello('ecnu',width=60)"
   ]
  },
  {
   "cell_type": "code",
   "execution_count": 11,
   "id": "236b73c6",
   "metadata": {},
   "outputs": [
    {
     "name": "stdout",
     "output_type": "stream",
     "text": [
      "1 2 3 4\n"
     ]
    }
   ],
   "source": [
    "print(1,2,3,4)"
   ]
  },
  {
   "cell_type": "code",
   "execution_count": 12,
   "id": "025ef02a",
   "metadata": {},
   "outputs": [
    {
     "name": "stdout",
     "output_type": "stream",
     "text": [
      "1 2\n"
     ]
    }
   ],
   "source": [
    "print(1,2)"
   ]
  },
  {
   "cell_type": "code",
   "execution_count": 13,
   "id": "6628ddf5",
   "metadata": {},
   "outputs": [
    {
     "name": "stdout",
     "output_type": "stream",
     "text": [
      "(1, 2)\n"
     ]
    }
   ],
   "source": [
    "def add_all(*params):\n",
    "    print(params)\n",
    "    \n",
    "add_all(1,2)"
   ]
  },
  {
   "cell_type": "code",
   "execution_count": 15,
   "id": "85201132",
   "metadata": {},
   "outputs": [
    {
     "name": "stdout",
     "output_type": "stream",
     "text": [
      "(1, 2, 3, 4)\n"
     ]
    }
   ],
   "source": [
    "add_all(1,2,3,4)"
   ]
  },
  {
   "cell_type": "code",
   "execution_count": 16,
   "id": "fe6c7e65",
   "metadata": {},
   "outputs": [
    {
     "data": {
      "text/plain": [
       "3"
      ]
     },
     "execution_count": 16,
     "metadata": {},
     "output_type": "execute_result"
    }
   ],
   "source": [
    "def add_all(*params):\n",
    "    return sum(params)\n",
    "    \n",
    "add_all(1,2)"
   ]
  },
  {
   "cell_type": "code",
   "execution_count": 17,
   "id": "8b647942",
   "metadata": {},
   "outputs": [
    {
     "data": {
      "text/plain": [
       "10"
      ]
     },
     "execution_count": 17,
     "metadata": {},
     "output_type": "execute_result"
    }
   ],
   "source": [
    "add_all(1,2,3,4)"
   ]
  },
  {
   "cell_type": "code",
   "execution_count": 18,
   "id": "64d84931",
   "metadata": {},
   "outputs": [
    {
     "name": "stdout",
     "output_type": "stream",
     "text": [
      "test\n"
     ]
    },
    {
     "data": {
      "text/plain": [
       "3"
      ]
     },
     "execution_count": 18,
     "metadata": {},
     "output_type": "execute_result"
    }
   ],
   "source": [
    "def add_all(name,*params):\n",
    "    print(name)\n",
    "    return sum(params)\n",
    "    \n",
    "add_all('test',1,2)"
   ]
  },
  {
   "cell_type": "code",
   "execution_count": 19,
   "id": "061fd45c",
   "metadata": {},
   "outputs": [
    {
     "name": "stdout",
     "output_type": "stream",
     "text": [
      "{'x': 1, 'y': 2}\n"
     ]
    }
   ],
   "source": [
    "def test(**params):\n",
    "    print(params)\n",
    "    \n",
    "test(x=1,y=2)"
   ]
  },
  {
   "cell_type": "code",
   "execution_count": 20,
   "id": "693b0c2d",
   "metadata": {},
   "outputs": [
    {
     "name": "stdout",
     "output_type": "stream",
     "text": [
      "{'x': 1, 'y': 2}\n"
     ]
    }
   ],
   "source": [
    "def test(**params):\n",
    "    print(params)\n",
    "    \n",
    "test(x=1,y=2)"
   ]
  },
  {
   "cell_type": "code",
   "execution_count": 21,
   "id": "e459fb23",
   "metadata": {},
   "outputs": [
    {
     "name": "stdout",
     "output_type": "stream",
     "text": [
      "**************************************************\n",
      "*                  hello,ecnu!                   *\n",
      "**************************************************\n"
     ]
    }
   ],
   "source": [
    "def hello(name,greeting='hello',width=50):\n",
    "    print('*'* width)\n",
    "    print(f'hello,{name}!'.center(width - 2).center(width,'*'))\n",
    "    print('*'* width)\n",
    "    \n",
    "params={'name':'ecnu','greeting':'hello','width':50}\n",
    "hello(**params)"
   ]
  },
  {
   "cell_type": "code",
   "execution_count": 22,
   "id": "794a6912",
   "metadata": {},
   "outputs": [],
   "source": [
    "x=1\n"
   ]
  },
  {
   "cell_type": "code",
   "execution_count": 23,
   "id": "617ac259",
   "metadata": {},
   "outputs": [
    {
     "data": {
      "text/plain": [
       "{'__name__': '__main__',\n",
       " '__doc__': 'Automatically created module for IPython interactive environment',\n",
       " '__package__': None,\n",
       " '__loader__': None,\n",
       " '__spec__': None,\n",
       " '__builtin__': <module 'builtins' (built-in)>,\n",
       " '__builtins__': <module 'builtins' (built-in)>,\n",
       " '_ih': ['',\n",
       "  \"def change(a):\\n    a[0]='hello'\\n    \\nx=['hi']\\nchange(x)\\nprint(x)\",\n",
       "  \"def change(a):\\n    a[0]='hello'\\n    \\nx=['hi']\\nchange(x)\\nprint(x)\",\n",
       "  \"def change(a):\\n    a[0]='hello'\\n    \\nx=['hi']\\nchange(x)\\nprint(x)\",\n",
       "  'def double(x):\\n    x=x*2\\n    return x\\n\\n\\na=2\\na=double(a)\\nprint(a)\\n    ',\n",
       "  \"def hello(name,greeting):\\n    'say hello to the specified person.'\\n    width = 50\\n    print('*'* width)\\n    print(f'hello,{name}!'.center(width - 2).center(width,'*'))\\n    print('*'* width)\\n    \\nhello('ecnu','Hello')\",\n",
       "  \"hello('hello','ecnu')\",\n",
       "  \"hello('hello','ecnu')\",\n",
       "  \"hello(greeting='hello',name='ecnu')\",\n",
       "  \"hello(name='ecnu',greeting='hello')\",\n",
       "  \"def hello(name,greeting='hello',width=50):\\n    print('*'* width)\\n    print(f'hello,{name}!'.center(width - 2).center(width,'*'))\\n    print('*'* width)\\n    \\nhello('ecnu',width=60)\",\n",
       "  'print(1,2,3,4)',\n",
       "  'print(1,2)',\n",
       "  'def add_all(*params):\\n    print(params)\\n    \\nadd_all(1,2)',\n",
       "  'add_all(1,2,3,4)',\n",
       "  'add_all(1,2,3,4)',\n",
       "  'def add_all(*params):\\n    return sum(params)\\n    \\nadd_all(1,2)',\n",
       "  'add_all(1,2,3,4)',\n",
       "  \"def add_all(name,*params):\\n    print(name)\\n    return sum(params)\\n    \\nadd_all('test',1,2)\",\n",
       "  'def test(**params):\\n    print(params)\\n    \\ntest(x=1,y=2)',\n",
       "  'def test(**params):\\n    print(params)\\n    \\ntest(x=1,y=2)',\n",
       "  \"def hello(name,greeting='hello',width=50):\\n    print('*'* width)\\n    print(f'hello,{name}!'.center(width - 2).center(width,'*'))\\n    print('*'* width)\\n    \\nparams={'name':'ecnu','greeting':'hello','width':50}\\nhello(**params)\",\n",
       "  'x=1',\n",
       "  'vars()'],\n",
       " '_oh': {16: 3, 17: 10, 18: 3},\n",
       " '_dh': [\"C:\\\\Users\\\\li'qian'wen\"],\n",
       " 'In': ['',\n",
       "  \"def change(a):\\n    a[0]='hello'\\n    \\nx=['hi']\\nchange(x)\\nprint(x)\",\n",
       "  \"def change(a):\\n    a[0]='hello'\\n    \\nx=['hi']\\nchange(x)\\nprint(x)\",\n",
       "  \"def change(a):\\n    a[0]='hello'\\n    \\nx=['hi']\\nchange(x)\\nprint(x)\",\n",
       "  'def double(x):\\n    x=x*2\\n    return x\\n\\n\\na=2\\na=double(a)\\nprint(a)\\n    ',\n",
       "  \"def hello(name,greeting):\\n    'say hello to the specified person.'\\n    width = 50\\n    print('*'* width)\\n    print(f'hello,{name}!'.center(width - 2).center(width,'*'))\\n    print('*'* width)\\n    \\nhello('ecnu','Hello')\",\n",
       "  \"hello('hello','ecnu')\",\n",
       "  \"hello('hello','ecnu')\",\n",
       "  \"hello(greeting='hello',name='ecnu')\",\n",
       "  \"hello(name='ecnu',greeting='hello')\",\n",
       "  \"def hello(name,greeting='hello',width=50):\\n    print('*'* width)\\n    print(f'hello,{name}!'.center(width - 2).center(width,'*'))\\n    print('*'* width)\\n    \\nhello('ecnu',width=60)\",\n",
       "  'print(1,2,3,4)',\n",
       "  'print(1,2)',\n",
       "  'def add_all(*params):\\n    print(params)\\n    \\nadd_all(1,2)',\n",
       "  'add_all(1,2,3,4)',\n",
       "  'add_all(1,2,3,4)',\n",
       "  'def add_all(*params):\\n    return sum(params)\\n    \\nadd_all(1,2)',\n",
       "  'add_all(1,2,3,4)',\n",
       "  \"def add_all(name,*params):\\n    print(name)\\n    return sum(params)\\n    \\nadd_all('test',1,2)\",\n",
       "  'def test(**params):\\n    print(params)\\n    \\ntest(x=1,y=2)',\n",
       "  'def test(**params):\\n    print(params)\\n    \\ntest(x=1,y=2)',\n",
       "  \"def hello(name,greeting='hello',width=50):\\n    print('*'* width)\\n    print(f'hello,{name}!'.center(width - 2).center(width,'*'))\\n    print('*'* width)\\n    \\nparams={'name':'ecnu','greeting':'hello','width':50}\\nhello(**params)\",\n",
       "  'x=1',\n",
       "  'vars()'],\n",
       " 'Out': {16: 3, 17: 10, 18: 3},\n",
       " 'get_ipython': <bound method InteractiveShell.get_ipython of <ipykernel.zmqshell.ZMQInteractiveShell object at 0x00000238973F5EE0>>,\n",
       " 'exit': <IPython.core.autocall.ZMQExitAutocall at 0x23897460bb0>,\n",
       " 'quit': <IPython.core.autocall.ZMQExitAutocall at 0x23897460bb0>,\n",
       " '_': 3,\n",
       " '__': 10,\n",
       " '___': 3,\n",
       " '_i': 'x=1',\n",
       " '_ii': \"def hello(name,greeting='hello',width=50):\\n    print('*'* width)\\n    print(f'hello,{name}!'.center(width - 2).center(width,'*'))\\n    print('*'* width)\\n    \\nparams={'name':'ecnu','greeting':'hello','width':50}\\nhello(**params)\",\n",
       " '_iii': 'def test(**params):\\n    print(params)\\n    \\ntest(x=1,y=2)',\n",
       " '_i1': \"def change(a):\\n    a[0]='hello'\\n    \\nx=['hi']\\nchange(x)\\nprint(x)\",\n",
       " 'change': <function __main__.change(a)>,\n",
       " 'x': 1,\n",
       " '_i2': \"def change(a):\\n    a[0]='hello'\\n    \\nx=['hi']\\nchange(x)\\nprint(x)\",\n",
       " '_i3': \"def change(a):\\n    a[0]='hello'\\n    \\nx=['hi']\\nchange(x)\\nprint(x)\",\n",
       " '_i4': 'def double(x):\\n    x=x*2\\n    return x\\n\\n\\na=2\\na=double(a)\\nprint(a)\\n    ',\n",
       " 'double': <function __main__.double(x)>,\n",
       " 'a': 4,\n",
       " '_i5': \"def hello(name,greeting):\\n    'say hello to the specified person.'\\n    width = 50\\n    print('*'* width)\\n    print(f'hello,{name}!'.center(width - 2).center(width,'*'))\\n    print('*'* width)\\n    \\nhello('ecnu','Hello')\",\n",
       " 'hello': <function __main__.hello(name, greeting='hello', width=50)>,\n",
       " '_i6': \"hello('hello','ecnu')\",\n",
       " '_i7': \"hello('hello','ecnu')\",\n",
       " '_i8': \"hello(greeting='hello',name='ecnu')\",\n",
       " '_i9': \"hello(name='ecnu',greeting='hello')\",\n",
       " '_i10': \"def hello(name,greeting='hello',width=50):\\n    print('*'* width)\\n    print(f'hello,{name}!'.center(width - 2).center(width,'*'))\\n    print('*'* width)\\n    \\nhello('ecnu',width=60)\",\n",
       " '_i11': 'print(1,2,3,4)',\n",
       " '_i12': 'print(1,2)',\n",
       " '_i13': 'def add_all(*params):\\n    print(params)\\n    \\nadd_all(1,2)',\n",
       " 'add_all': <function __main__.add_all(name, *params)>,\n",
       " '_i14': 'add_all(1,2,3,4)',\n",
       " '_i15': 'add_all(1,2,3,4)',\n",
       " '_i16': 'def add_all(*params):\\n    return sum(params)\\n    \\nadd_all(1,2)',\n",
       " '_16': 3,\n",
       " '_i17': 'add_all(1,2,3,4)',\n",
       " '_17': 10,\n",
       " '_i18': \"def add_all(name,*params):\\n    print(name)\\n    return sum(params)\\n    \\nadd_all('test',1,2)\",\n",
       " '_18': 3,\n",
       " '_i19': 'def test(**params):\\n    print(params)\\n    \\ntest(x=1,y=2)',\n",
       " 'test': <function __main__.test(**params)>,\n",
       " '_i20': 'def test(**params):\\n    print(params)\\n    \\ntest(x=1,y=2)',\n",
       " '_i21': \"def hello(name,greeting='hello',width=50):\\n    print('*'* width)\\n    print(f'hello,{name}!'.center(width - 2).center(width,'*'))\\n    print('*'* width)\\n    \\nparams={'name':'ecnu','greeting':'hello','width':50}\\nhello(**params)\",\n",
       " 'params': {'name': 'ecnu', 'greeting': 'hello', 'width': 50},\n",
       " '_i22': 'x=1',\n",
       " '_i23': 'vars()'}"
      ]
     },
     "execution_count": 23,
     "metadata": {},
     "output_type": "execute_result"
    }
   ],
   "source": [
    "vars()"
   ]
  },
  {
   "cell_type": "code",
   "execution_count": 24,
   "id": "356abf1a",
   "metadata": {},
   "outputs": [],
   "source": [
    "scope=vars()"
   ]
  },
  {
   "cell_type": "code",
   "execution_count": 25,
   "id": "b53fbd30",
   "metadata": {},
   "outputs": [
    {
     "data": {
      "text/plain": [
       "1"
      ]
     },
     "execution_count": 25,
     "metadata": {},
     "output_type": "execute_result"
    }
   ],
   "source": [
    "scope['x']"
   ]
  },
  {
   "cell_type": "code",
   "execution_count": 26,
   "id": "6d8fa1f2",
   "metadata": {},
   "outputs": [],
   "source": [
    "def test():\n",
    "    x=2\n",
    "test()"
   ]
  },
  {
   "cell_type": "code",
   "execution_count": 27,
   "id": "843683f2",
   "metadata": {},
   "outputs": [
    {
     "name": "stdout",
     "output_type": "stream",
     "text": [
      "1\n"
     ]
    }
   ],
   "source": [
    "print(x)"
   ]
  },
  {
   "cell_type": "code",
   "execution_count": 28,
   "id": "134bab7a",
   "metadata": {},
   "outputs": [
    {
     "name": "stdout",
     "output_type": "stream",
     "text": [
      "1\n",
      "3\n"
     ]
    }
   ],
   "source": [
    "def text_global():\n",
    "    global x\n",
    "    x=3\n",
    "\n",
    "print(x)\n",
    "text_global()\n",
    "print(x)"
   ]
  },
  {
   "cell_type": "code",
   "execution_count": 29,
   "id": "b07808cd",
   "metadata": {},
   "outputs": [],
   "source": [
    "def double(x):\n",
    "    return x*2\n",
    "def triple(x):\n",
    "    return x*3"
   ]
  },
  {
   "cell_type": "code",
   "execution_count": 30,
   "id": "42c8e84b",
   "metadata": {},
   "outputs": [
    {
     "name": "stdout",
     "output_type": "stream",
     "text": [
      "10\n"
     ]
    }
   ],
   "source": [
    "def multiplier(factor):#multiplier函数接收一个参数，变成number*factor\n",
    "    def multipliedByFactor(number):#closure团包\n",
    "        return number*factor\n",
    "    return multipliedByFactor\n",
    "double = multiplier(2)\n",
    "print(double(5))"
   ]
  },
  {
   "cell_type": "code",
   "execution_count": 31,
   "id": "e44bd56f",
   "metadata": {},
   "outputs": [
    {
     "name": "stdout",
     "output_type": "stream",
     "text": [
      "9 12\n"
     ]
    }
   ],
   "source": [
    "triple=multiplier(3)\n",
    "print(triple(3),triple(4))"
   ]
  },
  {
   "cell_type": "code",
   "execution_count": 35,
   "id": "524a318f",
   "metadata": {},
   "outputs": [
    {
     "name": "stdout",
     "output_type": "stream",
     "text": [
      "5\n",
      "4\n",
      "3\n",
      "2\n",
      "1\n"
     ]
    }
   ],
   "source": [
    "def print_numbers(n):#递归\n",
    "    print(n)\n",
    "    if n>1:\n",
    "        print_numbers(n-1)\n",
    "        \n",
    "print_numbers(5)"
   ]
  },
  {
   "cell_type": "code",
   "execution_count": 36,
   "id": "db145bdb",
   "metadata": {},
   "outputs": [
    {
     "name": "stdout",
     "output_type": "stream",
     "text": [
      "1\n",
      "2\n",
      "3\n",
      "4\n",
      "5\n"
     ]
    }
   ],
   "source": [
    "def print_numbers(n):#递归\n",
    "    if n>1:\n",
    "        print_numbers(n-1)\n",
    "    print(n)\n",
    "        \n",
    "print_numbers(5)"
   ]
  },
  {
   "cell_type": "code",
   "execution_count": 6,
   "id": "e224f853",
   "metadata": {},
   "outputs": [
    {
     "data": {
      "text/plain": [
       "89"
      ]
     },
     "execution_count": 6,
     "metadata": {},
     "output_type": "execute_result"
    }
   ],
   "source": [
    "def Fib(i):\n",
    "    if i==0 or i ==1:\n",
    "        return 1\n",
    "    else:\n",
    "        return Fib(i-1)+Fib(i-2)\n",
    "Fib(10)"
   ]
  },
  {
   "cell_type": "code",
   "execution_count": 5,
   "id": "51860555",
   "metadata": {},
   "outputs": [
    {
     "data": {
      "text/plain": [
       "24157817"
      ]
     },
     "execution_count": 5,
     "metadata": {},
     "output_type": "execute_result"
    }
   ],
   "source": [
    "Fib(36)"
   ]
  },
  {
   "cell_type": "code",
   "execution_count": 4,
   "id": "469b6f8c",
   "metadata": {},
   "outputs": [
    {
     "data": {
      "text/plain": [
       "39088169"
      ]
     },
     "execution_count": 4,
     "metadata": {},
     "output_type": "execute_result"
    }
   ],
   "source": [
    "Fib(37)"
   ]
  },
  {
   "cell_type": "code",
   "execution_count": 7,
   "id": "0566672f",
   "metadata": {},
   "outputs": [
    {
     "data": {
      "text/plain": [
       "6835702259575806647045396549170580107055408029365524565407553367798082454408054014954534318953113802726603726769523447478238192192714526677939943338306101405105414819705664090901813637296453767095528104868264704914433529355579148731044685634135487735897954629842516947101494253575869699893400976539545740214819819151952085089538422954565146720383752121972115725761141759114990448978941370030912401573418221496592822626"
      ]
     },
     "execution_count": 7,
     "metadata": {},
     "output_type": "execute_result"
    }
   ],
   "source": [
    "cache = dict()\n",
    "def fib_cached(i):\n",
    "    global cache#global说明cache为全局变量\n",
    "    if i in (0,1):\n",
    "        return 1\n",
    "    else:\n",
    "        result=cache.get(i)\n",
    "        if result is None:\n",
    "            result=fib_cached(i-1)+fib_cached(i-2)\n",
    "            cache[i]=result\n",
    "        return result\n",
    "fib_cached(2000)"
   ]
  },
  {
   "cell_type": "code",
   "execution_count": 8,
   "id": "d1439cae",
   "metadata": {},
   "outputs": [
    {
     "name": "stdout",
     "output_type": "stream",
     "text": [
      "70330367711422815821835254877183549770181269836358732742604905087154537118196933579742249494562611733487750449241765991088186363265450223647106012053374121273867339111198139373125598767690091902245245323403501\n"
     ]
    }
   ],
   "source": [
    "from functools import lru_cache\n",
    "\n",
    "@lru_cache(maxsize=None)\n",
    "def Fib(i):\n",
    "    if i in (0,1):\n",
    "        return 1\n",
    "    else:\n",
    "        return Fib(i-1)+Fib(i-2)\n",
    "    \n",
    "print(Fib(1000))"
   ]
  },
  {
   "cell_type": "code",
   "execution_count": 10,
   "id": "91038292",
   "metadata": {},
   "outputs": [
    {
     "data": {
      "text/plain": [
       "['foot', 'x41']"
      ]
     },
     "execution_count": 10,
     "metadata": {},
     "output_type": "execute_result"
    }
   ],
   "source": [
    "seq=['foot','x41','???','***']\n",
    "[x for x in seq if x.isalnum()]"
   ]
  },
  {
   "cell_type": "code",
   "execution_count": 11,
   "id": "581b0d35",
   "metadata": {},
   "outputs": [
    {
     "data": {
      "text/plain": [
       "<filter at 0x23f2c0afca0>"
      ]
     },
     "execution_count": 11,
     "metadata": {},
     "output_type": "execute_result"
    }
   ],
   "source": [
    "def func(x):\n",
    "    return x.isalnum()\n",
    "\n",
    "filter(func,seq)\n"
   ]
  },
  {
   "cell_type": "code",
   "execution_count": 12,
   "id": "32b01baa",
   "metadata": {},
   "outputs": [
    {
     "data": {
      "text/plain": [
       "['foot', 'x41']"
      ]
     },
     "execution_count": 12,
     "metadata": {},
     "output_type": "execute_result"
    }
   ],
   "source": [
    "def func(x):\n",
    "    return x.isalnum()\n",
    "\n",
    "list(filter(func,seq))"
   ]
  },
  {
   "cell_type": "code",
   "execution_count": 13,
   "id": "6713b46f",
   "metadata": {},
   "outputs": [],
   "source": [
    "my_list=list(range(1,11))"
   ]
  },
  {
   "cell_type": "code",
   "execution_count": 14,
   "id": "4f8e44c8",
   "metadata": {},
   "outputs": [
    {
     "data": {
      "text/plain": [
       "[1, 2, 3, 4, 5, 6, 7, 8, 9, 10]"
      ]
     },
     "execution_count": 14,
     "metadata": {},
     "output_type": "execute_result"
    }
   ],
   "source": [
    "my_list"
   ]
  },
  {
   "cell_type": "code",
   "execution_count": 15,
   "id": "83e78248",
   "metadata": {},
   "outputs": [
    {
     "name": "stdout",
     "output_type": "stream",
     "text": [
      "range(1, 11)\n"
     ]
    }
   ],
   "source": [
    "print(range(1,11))"
   ]
  },
  {
   "cell_type": "code",
   "execution_count": 16,
   "id": "090ee193",
   "metadata": {},
   "outputs": [
    {
     "data": {
      "text/plain": [
       "['foot', 'x41']"
      ]
     },
     "execution_count": 16,
     "metadata": {},
     "output_type": "execute_result"
    }
   ],
   "source": [
    "list(filter(lambda x:x.isalnum(),seq))#lambda定义无名函数  函数参数：lambda x  函数体：x.isalnum()"
   ]
  },
  {
   "cell_type": "code",
   "execution_count": 24,
   "id": "d9059785",
   "metadata": {},
   "outputs": [
    {
     "name": "stdout",
     "output_type": "stream",
     "text": [
      "#                                                          *\r"
     ]
    }
   ],
   "source": [
    "import math\n",
    "length = 60\n",
    "def wait():\n",
    "    y=0\n",
    "    while y<500000:\n",
    "        z=math.sin(x)*math.exp(x)\n",
    "        y+=1#浪费一段时间，让我们能看到蚂蚁在走\n",
    "        \n",
    "bar = list()\n",
    "for i in range(0,length):\n",
    "    bar.append(' ')#蚂蚁爬的杆\n",
    "\n",
    "x=0\n",
    "y=length-1\n",
    "for i in range(0,length):#循环，直到杆上没有蚂蚁\n",
    "    bar[x]='*'\n",
    "    bar[y]='#'\n",
    "    for ch in bar:\n",
    "        print(ch,sep='',end='')\n",
    "    \n",
    "    wait()\n",
    "    bar[x]=' '\n",
    "    bar[y]=' '\n",
    "    x+=1\n",
    "    y-=1\n",
    "    print('\\r',end='')"
   ]
  },
  {
   "cell_type": "code",
   "execution_count": 31,
   "id": "f8aaed89",
   "metadata": {},
   "outputs": [
    {
     "ename": "SyntaxError",
     "evalue": "invalid syntax (<ipython-input-31-0618c1d0ebc7>, line 12)",
     "output_type": "error",
     "traceback": [
      "\u001b[1;36m  File \u001b[1;32m\"<ipython-input-31-0618c1d0ebc7>\"\u001b[1;36m, line \u001b[1;32m12\u001b[0m\n\u001b[1;33m    def init_bar(length=60)\u001b[0m\n\u001b[1;37m                           ^\u001b[0m\n\u001b[1;31mSyntaxError\u001b[0m\u001b[1;31m:\u001b[0m invalid syntax\n"
     ]
    }
   ],
   "source": [
    "'''\n",
    "init_bar()\n",
    "set_ants_positions()\n",
    "while not is_bar_empty():\n",
    "    update_bar()\n",
    "    show_bar()\n",
    "    wait()\n",
    "    update_ants_position()\n",
    "'''\n",
    "from time import sleep\n",
    "\n",
    "def init_bar(length=60)\n",
    "    bar=list(' '*length)\n",
    "    return bar\n",
    "\n",
    "def clear_bar(bar):\n",
    "    for i in range(length(bar)):\n",
    "        bar[i]=' '\n",
    "        \n",
    "def init_ants_positions(bar_length=60):\n",
    "    ants=list()\n",
    "    ants.append({'position':0,'direction':1})\n",
    "    ants.append({'position':bar_length-1,'direction':-1})\n",
    "    return ants\n",
    "\n",
    "def update_bar(bar,ants):\n",
    "    clear_bar(bar)\n",
    "    for ant in ants:\n",
    "        if 0<= ant['position']<len(bar):#让蚂蚁在杆子上爬\n",
    "            bar[ant['position']]='*'\n",
    "\n",
    "def is_bar_empty(bar):\n",
    "    for item in bar:\n",
    "        if not item==' ':\n",
    "            return False\n",
    "        #return bar==' '*len(bar)\n",
    "    return True\n",
    "\n",
    "def show_bar(bar):\n",
    "    for ch in bar:\n",
    "        print(ch,sep='',end='')\n",
    "    print('\\r',sep='',end='')\n",
    "    \n",
    "def undate_ants(ants):\n",
    "    for ant in ants:\n",
    "        ant['position']+=ant['position']\n",
    "        \n",
    "bar=init_bar()\n",
    "ants=init_ants()\n",
    "\n",
    "\n",
    "while not is_bar_empty(bar):\n",
    "    update_bar(bar,ants)\n",
    "    show_bar()\n",
    "    sleep(0.2)\n",
    "    update_ants()"
   ]
  }
 ],
 "metadata": {
  "kernelspec": {
   "display_name": "Python 3",
   "language": "python",
   "name": "python3"
  },
  "language_info": {
   "codemirror_mode": {
    "name": "ipython",
    "version": 3
   },
   "file_extension": ".py",
   "mimetype": "text/x-python",
   "name": "python",
   "nbconvert_exporter": "python",
   "pygments_lexer": "ipython3",
   "version": "3.8.8"
  }
 },
 "nbformat": 4,
 "nbformat_minor": 5
}
